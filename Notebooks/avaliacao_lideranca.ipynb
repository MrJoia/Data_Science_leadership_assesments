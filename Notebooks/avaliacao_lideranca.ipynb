{
  "nbformat": 4,
  "nbformat_minor": 0,
  "metadata": {
    "colab": {
      "provenance": [],
      "toc_visible": true,
      "authorship_tag": "ABX9TyOloa3ZFJiTjZpdXVr1AT5p",
      "include_colab_link": true
    },
    "kernelspec": {
      "name": "python3",
      "display_name": "Python 3"
    },
    "language_info": {
      "name": "python"
    }
  },
  "cells": [
    {
      "cell_type": "markdown",
      "metadata": {
        "id": "view-in-github",
        "colab_type": "text"
      },
      "source": [
        "<a href=\"https://colab.research.google.com/github/MrJoia/Data_Science_leadership_assesments/blob/main/Notebooks/avaliacao_lideranca.ipynb\" target=\"_parent\"><img src=\"https://colab.research.google.com/assets/colab-badge.svg\" alt=\"Open In Colab\"/></a>"
      ]
    },
    {
      "cell_type": "markdown",
      "source": [
        "# Python Data Analysis Project about my assessments as a leader\n",
        "\n",
        "In this notepad I will put into practice some of the things I've been learning in the \"Python for Data Science\" and \"My first leadership\" training, both from [@Alura](https://www.alura.com.br/).\n",
        "\n",
        "---\n",
        "Training link \"My first leadership\":  https://cursos.alura.com.br/formacao-minha-primeira-lideranca\n",
        "\n",
        "Training link \"Python for Data Science\": https://cursos.alura.com.br/formacao-python-data-science\n",
        "\n",
        "---"
      ],
      "metadata": {
        "id": "1kA6yqbEG8hk"
      }
    },
    {
      "cell_type": "markdown",
      "source": [
        "# 1. Subjects evaluated and notes received\n"
      ],
      "metadata": {
        "id": "ghn4Jo-JI2xY"
      }
    },
    {
      "cell_type": "markdown",
      "source": [
        "## Caption for evaluation\n",
        "\n",
        "1. Does not present;\n",
        "2. It presents;\n",
        "3. Within expectations;\n",
        "4. Above expectations;"
      ],
      "metadata": {
        "id": "uC_NBgRJMoA8"
      }
    },
    {
      "cell_type": "markdown",
      "source": [
        "## 1.1. Creating a dataframe with all notes and justifications"
      ],
      "metadata": {
        "id": "pQ2Fmj9eMiQS"
      }
    },
    {
      "cell_type": "code",
      "source": [
        "# List of dictionaries with all ratings\n",
        "ratings = [\n",
        "    {'Nome': 'Leticia', 'Assunto': 'Empatia', 'Nota': 2, 'Justificativa': 'Acredito que você tenha um pouco dificuldade de ver as coisas através da perspectiva da outra pessoa, tipo você tem o seu ponto de vista e dificilmente consegue observar todas as circunstancias que fizeram aquela pessoa pensar daquela forma.'},\n",
        "    {'Nome': 'Leticia', 'Assunto': 'Relacionamento_Interpessoal', 'Nota': 4, 'Justificativa': 'Eu acho que você sabe se comunicar muito bem independente de com quem seja, seja diretor, gerente ou funcionário'},\n",
        "    {'Nome': 'Leticia', 'Assunto': 'Escuta_Ativa', 'Nota': 2, 'Justificativa': 'Eu já falei algumas vezes sobre isso, não é sempre mas algumas vezes parece que você se fecha na sua opinião e não consegue ouvir o que outro esta falando, já aconteceu até de você estar falando a mesma coisa que o outro, mas por conta desse \"fechamento\" você acaba não ouvindo o outro.'},\n",
        "    {'Nome': 'Michel', 'Assunto': 'Empatia', 'Nota': 3, 'Justificativa': 'Boa capacidade de compreender as dificuldades apresentadas, ponderar e estabelecer uma melhor forma de resolução das mesmas.'},\n",
        "    {'Nome': 'Michel', 'Assunto': 'Relacionamento_Interpessoal', 'Nota': 3, 'Justificativa': 'Boa intermediação entre os diferentes times, principalmente durante as reuniões, nos momentos de divergência de opiniões; consegue integrar os times a fim de conduzi-los a um acordo.'},\n",
        "    {'Nome': 'Michel', 'Assunto': 'Escuta_Ativa', 'Nota': 4, 'Justificativa': 'Boa capacidade de escuta ativa, resultante da boa capacidade de relacionamento interpessoal e empatia com o time. Consegue se impor quando necessário durante os debates nas reuniões. Pouquíssimas vezes (1 ou 2 vezes) percebi que você se exaltou durante alguma discussão com o time, prejudicando a manutenção de um dialogo com o time, porém, entendo que o momento favorecia essa atitude, ou seja, não julgo!'},\n",
        "    {'Nome': 'Rodrigo', 'Assunto': 'Empatia', 'Nota': 3, 'Justificativa': 'É capaz de perceber que um ponto ou outro do serviço não pode seguir exatamente a rigidez  da regra, cedendo no que pode desde que não prejudique a qualidade da entrega.'},\n",
        "    {'Nome': 'Rodrigo', 'Assunto': 'Relacionamento_Interpessoal', 'Nota': 4, 'Justificativa': 'É bastante fácil trabalhar com você, me sinto tranquilo e ouvido sempre que precisamos nos comunicar. Sua atitude é de boa vontade e desejo de fazer um bom trabalho.  Não tenho observações adicionais sobre eventuais pontos negativos pois não os notei ainda.'},\n",
        "    {'Nome': 'Rodrigo', 'Assunto': 'Escuta_Ativa', 'Nota': 3, 'Justificativa': 'No geral você tem uma boa capacidade de ouvir e estabelecer diálogos construtivos. É importante notar que em algumas situações percebe-se um prejuízo a esta parte quando em situações de debate, principalmente em reuniões mais estressantes, pois seu ânimo exalta com o embate e por vezes enviesa o julgamento. No entanto, isto ocorre poucas vezes e não vejo como algo marcante. Aliás, mesmo nos embates mais acalorados percebe-se um foco no assunto a ser abordado e desejo de manter um diálogo construtivo. Nestes casos,  sinto que com os ânimos exaltados fica mais dificil tanto você quanto a outra pessoa se entenderem. Este é um ponto que todos nós temos de defeito, é inerente a natureza humana. Eu mesmo tenho imensa dificuldade de ouvir quando o \"sangue esquenta\".'},\n",
        "    {'Nome': 'Victor', 'Assunto': 'Empatia', 'Nota': 4, 'Justificativa': 'Desde o início sempre se mostrou disposto a ajudar com a minha adaptação e eventuais dúvidas que eu pudesse ter.'},\n",
        "    {'Nome': 'Victor', 'Assunto': 'Relacionamento_Interpessoal', 'Nota': 4, 'Justificativa': 'Bem comunicativo, possui uma personalidade fácil de lidar que inclusive, se parece muito com a minha.'},\n",
        "    {'Nome': 'Victor', 'Assunto': 'Escuta_Ativa', 'Nota': 4, 'Justificativa': 'Como dito anteriormente, desde o início esteve sempre disposto a ajudar com quaisquer assuntos que pudesse contribuir com algo, e vendo um pouco de fora é possível ver que é um bom líder.'},\n",
        "    {'Nome': 'Fabricio', 'Assunto': 'Empatia', 'Nota': 4, 'Justificativa': 'Acho que você sempre pergunta e tenta entender o lado do outro sobre as suas dificuldades para tomar a melhor decisão.'},\n",
        "    {'Nome': 'Fabricio', 'Assunto': 'Relacionamento_Interpessoal', 'Nota': 4, 'Justificativa': 'Na minha opinião, sua relação é muito boa. Suas decisões são bem ouvidas e confiáveis para esses públicos.'},\n",
        "    {'Nome': 'Fabricio', 'Assunto': 'Escuta_Ativa', 'Nota': 4, 'Justificativa': 'Acho isso uma qualidade sua muito boa, todas as reuniões você se dispõe ao dialogo e escuta o ponto de vista de todos, sem exceção.'},\n",
        "    {'Nome': 'Patrick', 'Assunto': 'Empatia', 'Nota': 3, 'Justificativa': 'Esse aqui está bom.'},\n",
        "    {'Nome': 'Patrick', 'Assunto': 'Relacionamento_Interpessoal', 'Nota': 3, 'Justificativa': 'Esse aqui também, nada mal.'},\n",
        "    {'Nome': 'Patrick', 'Assunto': 'Escuta_Ativa', 'Nota': 2, 'Justificativa': 'Favor melhorar obrigado!'},\n",
        "    {'Nome': 'Fagner', 'Assunto': 'Empatia', 'Nota': 4, 'Justificativa': 'Sempre prestativo e comprometido com o resultado.'},\n",
        "    {'Nome': 'Fagner', 'Assunto': 'Relacionamento_Interpessoal', 'Nota': 2, 'Justificativa': 'Sempre disposto a conversar com a equipe, mantendo um bom relacionamento. Mas nesse ponto acredito que poderia ser mais presente na relação com toda a equipe.'},\n",
        "    {'Nome': 'Fagner', 'Assunto': 'Escuta_Ativa', 'Nota': 4, 'Justificativa': 'Sempre escuta e considera viável opiniões de todos'},\n",
        "    {'Nome': 'Livio', 'Assunto': 'Empatia', 'Nota': 2, 'Justificativa': 'Pela minha visão você  tenta ter empatia, mas as sua ações pode ficar um pouco nebulosas, dificil de compreender o que realmente voce quer.'},\n",
        "    {'Nome': 'Livio', 'Assunto': 'Relacionamento_Interpessoal', 'Nota': 2, 'Justificativa': 'Você interage com todos de forma adequada, acho que devemos sempre priorizar o respeito com todos.'},\n",
        "    {'Nome': 'Livio', 'Assunto': 'Escuta_Ativa', 'Nota': 2, 'Justificativa': 'Na escuta ativa, realmente, tentar praticar a empatia junto com a escuta ativa, as duas se complementam, eu na maioria das vezes voce está mais falando do que realmente tentando escutar as pessoas, lembrando, as vezes suas ações são dificies de compreender, talvez voce tente, mas não consigo perceber.'},\n",
        "    {'Nome': 'João', 'Assunto': 'Empatia', 'Nota': 4, 'Justificativa': 'Esta avaliação se afirma no fato do Mateus  compreender de forma muito boa a existência de vários backgrounds , escuta outras perspectivas , e com frequência , fica a disposição.'},\n",
        "    {'Nome': 'João', 'Assunto': 'Relacionamento_Interpessoal', 'Nota': 4, 'Justificativa': 'Temos com frequência , apresentação de projetos , brainstorming , e discussões diárias dos desafios ligados a nossa atividade profissional  , e vejo o empenho nas tarefas de sua responsabilidade , os cursos de atualização ou especialização , e a forma com que se comunica e respeita os demais profissionais, em todos os níveis.'},\n",
        "    {'Nome': 'João', 'Assunto': 'Escuta_Ativa', 'Nota': 4, 'Justificativa': 'A escuta ativa , está intrinsecamente ligada a Empatia , sempre que realizamos apresentações e reuniões , demonstra uma ótima capacidade de absorver os insights  que são expostos.'},\n",
        "    {'Nome': 'Eliana', 'Assunto': 'Empatia', 'Nota': 4, 'Justificativa': 'Já te vi em várias reuniões apontando soluções entendendo o lado dos outros'},\n",
        "    {'Nome': 'Eliana', 'Assunto': 'Relacionamento_Interpessoal', 'Nota': 3, 'Justificativa': 'Conversamos pouco, mas os diálogos são bons'},\n",
        "    {'Nome': 'Eliana', 'Assunto': 'Escuta_Ativa', 'Nota': 4, 'Justificativa': 'Tem facilidade em ouvir e aceitar mudanças.'},\n",
        "    {'Nome': 'Thais', 'Assunto': 'Empatia', 'Nota': 3, 'Justificativa': 'Está se desenvolvendo muito bem como gestor, e supre as necessidades do seu liderado quando ele precisa. Devolução positiva quanto ao seu posicionamento.'},\n",
        "    {'Nome': 'Thais', 'Assunto': 'Relacionamento_Interpessoal', 'Nota': 3, 'Justificativa': 'Sempre respeito, bom dia, boa tarde, com todos, independente de setor ou piso. Além disso, o retorno nos feedbacks do liderado, é positivo, quanto a esse ponto que era algo que incomodava. Nota-se a melhora.'},\n",
        "    {'Nome': 'Thais', 'Assunto': 'Escuta_Ativa', 'Nota': 4, 'Justificativa': 'Com RH, sempre foi muito prestativo a ouvir e absorve além do que é passado, tendo uma devolutiva POSITIVA, além das expectativas. Exemplo: A cada reunião 1:1, elabora um plano de ação diferente, busca pelo novo e segue o modelo que a empresa propôs inicialmente.'},\n",
        "    {'Nome': 'Thalita', 'Assunto': 'Empatia', 'Nota': 2, 'Justificativa': 'Tem muita empatia com pessoas próximas, mas no contexto geral acredito que dê pra expandir um pouco mais a visão sobre a situação de vida principalmente de pessoas menos favorecidas (baseado na conversa aquele dia na cozinha, posso ter me enganado tbm).'},\n",
        "    {'Nome': 'Thalita', 'Assunto': 'Relacionamento_Interpessoal', 'Nota': 4, 'Justificativa': 'Muito comunicativo, sabe se expressar e ser ouvido muito bem, facilidade em lidar com público, passa confiança nas ações.'},\n",
        "    {'Nome': 'Thalita', 'Assunto': 'Escuta_Ativa', 'Nota': 4, 'Justificativa': 'Consegue abranger diversos pontos de vista e, se necessário, converte a opinião para o que for mais válido no momento. Entretanto, sabe quando é necessário se manter firme sobre a própria opinião.'},\n",
        "]"
      ],
      "metadata": {
        "id": "4m_bR1-D0cK_"
      },
      "execution_count": null,
      "outputs": []
    },
    {
      "cell_type": "code",
      "source": [
        "# Importing Pandas\n",
        "import pandas as pd\n",
        "pd.set_option('display.max_rows', 50)\n",
        "pd.set_option('display.max_columns', 50)\n",
        "pd.set_option('display.width', 1000)\n",
        "\n",
        "# Importing append function\n",
        "from numpy.lib.function_base import append\n",
        "\n",
        "# Importing Pyplot\n",
        "import matplotlib.pyplot as plt\n",
        "\n",
        "# Import statistics\n",
        "import statistics"
      ],
      "metadata": {
        "id": "rwoalSqk0ciL"
      },
      "execution_count": null,
      "outputs": []
    },
    {
      "cell_type": "code",
      "source": [
        "# Create a DataFrame whit Pandas\n",
        "dataset = pd.DataFrame(ratings)\n",
        "dataset"
      ],
      "metadata": {
        "id": "pDPurcjO0clH",
        "colab": {
          "base_uri": "https://localhost:8080/",
          "height": 1000
        },
        "outputId": "41f55696-b5b2-4d09-a7c8-deeedd37858d"
      },
      "execution_count": null,
      "outputs": [
        {
          "output_type": "execute_result",
          "data": {
            "text/plain": [
              "        Nome                      Assunto  Nota                                      Justificativa\n",
              "0    Leticia                      Empatia     2  Acredito que você tenha um pouco dificuldade d...\n",
              "1    Leticia  Relacionamento_Interpessoal     4  Eu acho que você sabe se comunicar muito bem i...\n",
              "2    Leticia                 Escuta_Ativa     2  Eu já falei algumas vezes sobre isso, não é se...\n",
              "3     Michel                      Empatia     3  Boa capacidade de compreender as dificuldades ...\n",
              "4     Michel  Relacionamento_Interpessoal     3  Boa intermediação entre os diferentes times, p...\n",
              "5     Michel                 Escuta_Ativa     4  Boa capacidade de escuta ativa, resultante da ...\n",
              "6    Rodrigo                      Empatia     3  É capaz de perceber que um ponto ou outro do s...\n",
              "7    Rodrigo  Relacionamento_Interpessoal     4  É bastante fácil trabalhar com você, me sinto ...\n",
              "8    Rodrigo                 Escuta_Ativa     3  No geral você tem uma boa capacidade de ouvir ...\n",
              "9     Victor                      Empatia     4  Desde o início sempre se mostrou disposto a aj...\n",
              "10    Victor  Relacionamento_Interpessoal     4  Bem comunicativo, possui uma personalidade fác...\n",
              "11    Victor                 Escuta_Ativa     4  Como dito anteriormente, desde o início esteve...\n",
              "12  Fabricio                      Empatia     4  Acho que você sempre pergunta e tenta entender...\n",
              "13  Fabricio  Relacionamento_Interpessoal     4  Na minha opinião, sua relação é muito boa. Sua...\n",
              "14  Fabricio                 Escuta_Ativa     4  Acho isso uma qualidade sua muito boa, todas a...\n",
              "15   Patrick                      Empatia     3                                Esse aqui está bom.\n",
              "16   Patrick  Relacionamento_Interpessoal     3                        Esse aqui também, nada mal.\n",
              "17   Patrick                 Escuta_Ativa     2                           Favor melhorar obrigado!\n",
              "18    Fagner                      Empatia     4  Sempre prestativo e comprometido com o resultado.\n",
              "19    Fagner  Relacionamento_Interpessoal     2  Sempre disposto a conversar com a equipe, mant...\n",
              "20    Fagner                 Escuta_Ativa     4  Sempre escuta e considera viável opiniões de t...\n",
              "21     Livio                      Empatia     2  Pela minha visão você  tenta ter empatia, mas ...\n",
              "22     Livio  Relacionamento_Interpessoal     2  Você interage com todos de forma adequada, ach...\n",
              "23     Livio                 Escuta_Ativa     2  Na escuta ativa, realmente, tentar praticar a ...\n",
              "24      João                      Empatia     4  Esta avaliação se afirma no fato do Mateus  co...\n",
              "25      João  Relacionamento_Interpessoal     4  Temos com frequência , apresentação de projeto...\n",
              "26      João                 Escuta_Ativa     4  A escuta ativa , está intrinsecamente ligada a...\n",
              "27    Eliana                      Empatia     4  Já te vi em várias reuniões apontando soluções...\n",
              "28    Eliana  Relacionamento_Interpessoal     3        Conversamos pouco, mas os diálogos são bons\n",
              "29    Eliana                 Escuta_Ativa     4        Tem facilidade em ouvir e aceitar mudanças.\n",
              "30     Thais                      Empatia     3  Está se desenvolvendo muito bem como gestor, e...\n",
              "31     Thais  Relacionamento_Interpessoal     3  Sempre respeito, bom dia, boa tarde, com todos...\n",
              "32     Thais                 Escuta_Ativa     4  Com RH, sempre foi muito prestativo a ouvir e ...\n",
              "33   Thalita                      Empatia     2  Tem muita empatia com pessoas próximas, mas no...\n",
              "34   Thalita  Relacionamento_Interpessoal     4  Muito comunicativo, sabe se expressar e ser ou...\n",
              "35   Thalita                 Escuta_Ativa     4  Consegue abranger diversos pontos de vista e, ..."
            ],
            "text/html": [
              "\n",
              "  <div id=\"df-7d9c9285-79af-429a-af27-acffe42de284\">\n",
              "    <div class=\"colab-df-container\">\n",
              "      <div>\n",
              "<style scoped>\n",
              "    .dataframe tbody tr th:only-of-type {\n",
              "        vertical-align: middle;\n",
              "    }\n",
              "\n",
              "    .dataframe tbody tr th {\n",
              "        vertical-align: top;\n",
              "    }\n",
              "\n",
              "    .dataframe thead th {\n",
              "        text-align: right;\n",
              "    }\n",
              "</style>\n",
              "<table border=\"1\" class=\"dataframe\">\n",
              "  <thead>\n",
              "    <tr style=\"text-align: right;\">\n",
              "      <th></th>\n",
              "      <th>Nome</th>\n",
              "      <th>Assunto</th>\n",
              "      <th>Nota</th>\n",
              "      <th>Justificativa</th>\n",
              "    </tr>\n",
              "  </thead>\n",
              "  <tbody>\n",
              "    <tr>\n",
              "      <th>0</th>\n",
              "      <td>Leticia</td>\n",
              "      <td>Empatia</td>\n",
              "      <td>2</td>\n",
              "      <td>Acredito que você tenha um pouco dificuldade d...</td>\n",
              "    </tr>\n",
              "    <tr>\n",
              "      <th>1</th>\n",
              "      <td>Leticia</td>\n",
              "      <td>Relacionamento_Interpessoal</td>\n",
              "      <td>4</td>\n",
              "      <td>Eu acho que você sabe se comunicar muito bem i...</td>\n",
              "    </tr>\n",
              "    <tr>\n",
              "      <th>2</th>\n",
              "      <td>Leticia</td>\n",
              "      <td>Escuta_Ativa</td>\n",
              "      <td>2</td>\n",
              "      <td>Eu já falei algumas vezes sobre isso, não é se...</td>\n",
              "    </tr>\n",
              "    <tr>\n",
              "      <th>3</th>\n",
              "      <td>Michel</td>\n",
              "      <td>Empatia</td>\n",
              "      <td>3</td>\n",
              "      <td>Boa capacidade de compreender as dificuldades ...</td>\n",
              "    </tr>\n",
              "    <tr>\n",
              "      <th>4</th>\n",
              "      <td>Michel</td>\n",
              "      <td>Relacionamento_Interpessoal</td>\n",
              "      <td>3</td>\n",
              "      <td>Boa intermediação entre os diferentes times, p...</td>\n",
              "    </tr>\n",
              "    <tr>\n",
              "      <th>5</th>\n",
              "      <td>Michel</td>\n",
              "      <td>Escuta_Ativa</td>\n",
              "      <td>4</td>\n",
              "      <td>Boa capacidade de escuta ativa, resultante da ...</td>\n",
              "    </tr>\n",
              "    <tr>\n",
              "      <th>6</th>\n",
              "      <td>Rodrigo</td>\n",
              "      <td>Empatia</td>\n",
              "      <td>3</td>\n",
              "      <td>É capaz de perceber que um ponto ou outro do s...</td>\n",
              "    </tr>\n",
              "    <tr>\n",
              "      <th>7</th>\n",
              "      <td>Rodrigo</td>\n",
              "      <td>Relacionamento_Interpessoal</td>\n",
              "      <td>4</td>\n",
              "      <td>É bastante fácil trabalhar com você, me sinto ...</td>\n",
              "    </tr>\n",
              "    <tr>\n",
              "      <th>8</th>\n",
              "      <td>Rodrigo</td>\n",
              "      <td>Escuta_Ativa</td>\n",
              "      <td>3</td>\n",
              "      <td>No geral você tem uma boa capacidade de ouvir ...</td>\n",
              "    </tr>\n",
              "    <tr>\n",
              "      <th>9</th>\n",
              "      <td>Victor</td>\n",
              "      <td>Empatia</td>\n",
              "      <td>4</td>\n",
              "      <td>Desde o início sempre se mostrou disposto a aj...</td>\n",
              "    </tr>\n",
              "    <tr>\n",
              "      <th>10</th>\n",
              "      <td>Victor</td>\n",
              "      <td>Relacionamento_Interpessoal</td>\n",
              "      <td>4</td>\n",
              "      <td>Bem comunicativo, possui uma personalidade fác...</td>\n",
              "    </tr>\n",
              "    <tr>\n",
              "      <th>11</th>\n",
              "      <td>Victor</td>\n",
              "      <td>Escuta_Ativa</td>\n",
              "      <td>4</td>\n",
              "      <td>Como dito anteriormente, desde o início esteve...</td>\n",
              "    </tr>\n",
              "    <tr>\n",
              "      <th>12</th>\n",
              "      <td>Fabricio</td>\n",
              "      <td>Empatia</td>\n",
              "      <td>4</td>\n",
              "      <td>Acho que você sempre pergunta e tenta entender...</td>\n",
              "    </tr>\n",
              "    <tr>\n",
              "      <th>13</th>\n",
              "      <td>Fabricio</td>\n",
              "      <td>Relacionamento_Interpessoal</td>\n",
              "      <td>4</td>\n",
              "      <td>Na minha opinião, sua relação é muito boa. Sua...</td>\n",
              "    </tr>\n",
              "    <tr>\n",
              "      <th>14</th>\n",
              "      <td>Fabricio</td>\n",
              "      <td>Escuta_Ativa</td>\n",
              "      <td>4</td>\n",
              "      <td>Acho isso uma qualidade sua muito boa, todas a...</td>\n",
              "    </tr>\n",
              "    <tr>\n",
              "      <th>15</th>\n",
              "      <td>Patrick</td>\n",
              "      <td>Empatia</td>\n",
              "      <td>3</td>\n",
              "      <td>Esse aqui está bom.</td>\n",
              "    </tr>\n",
              "    <tr>\n",
              "      <th>16</th>\n",
              "      <td>Patrick</td>\n",
              "      <td>Relacionamento_Interpessoal</td>\n",
              "      <td>3</td>\n",
              "      <td>Esse aqui também, nada mal.</td>\n",
              "    </tr>\n",
              "    <tr>\n",
              "      <th>17</th>\n",
              "      <td>Patrick</td>\n",
              "      <td>Escuta_Ativa</td>\n",
              "      <td>2</td>\n",
              "      <td>Favor melhorar obrigado!</td>\n",
              "    </tr>\n",
              "    <tr>\n",
              "      <th>18</th>\n",
              "      <td>Fagner</td>\n",
              "      <td>Empatia</td>\n",
              "      <td>4</td>\n",
              "      <td>Sempre prestativo e comprometido com o resultado.</td>\n",
              "    </tr>\n",
              "    <tr>\n",
              "      <th>19</th>\n",
              "      <td>Fagner</td>\n",
              "      <td>Relacionamento_Interpessoal</td>\n",
              "      <td>2</td>\n",
              "      <td>Sempre disposto a conversar com a equipe, mant...</td>\n",
              "    </tr>\n",
              "    <tr>\n",
              "      <th>20</th>\n",
              "      <td>Fagner</td>\n",
              "      <td>Escuta_Ativa</td>\n",
              "      <td>4</td>\n",
              "      <td>Sempre escuta e considera viável opiniões de t...</td>\n",
              "    </tr>\n",
              "    <tr>\n",
              "      <th>21</th>\n",
              "      <td>Livio</td>\n",
              "      <td>Empatia</td>\n",
              "      <td>2</td>\n",
              "      <td>Pela minha visão você  tenta ter empatia, mas ...</td>\n",
              "    </tr>\n",
              "    <tr>\n",
              "      <th>22</th>\n",
              "      <td>Livio</td>\n",
              "      <td>Relacionamento_Interpessoal</td>\n",
              "      <td>2</td>\n",
              "      <td>Você interage com todos de forma adequada, ach...</td>\n",
              "    </tr>\n",
              "    <tr>\n",
              "      <th>23</th>\n",
              "      <td>Livio</td>\n",
              "      <td>Escuta_Ativa</td>\n",
              "      <td>2</td>\n",
              "      <td>Na escuta ativa, realmente, tentar praticar a ...</td>\n",
              "    </tr>\n",
              "    <tr>\n",
              "      <th>24</th>\n",
              "      <td>João</td>\n",
              "      <td>Empatia</td>\n",
              "      <td>4</td>\n",
              "      <td>Esta avaliação se afirma no fato do Mateus  co...</td>\n",
              "    </tr>\n",
              "    <tr>\n",
              "      <th>25</th>\n",
              "      <td>João</td>\n",
              "      <td>Relacionamento_Interpessoal</td>\n",
              "      <td>4</td>\n",
              "      <td>Temos com frequência , apresentação de projeto...</td>\n",
              "    </tr>\n",
              "    <tr>\n",
              "      <th>26</th>\n",
              "      <td>João</td>\n",
              "      <td>Escuta_Ativa</td>\n",
              "      <td>4</td>\n",
              "      <td>A escuta ativa , está intrinsecamente ligada a...</td>\n",
              "    </tr>\n",
              "    <tr>\n",
              "      <th>27</th>\n",
              "      <td>Eliana</td>\n",
              "      <td>Empatia</td>\n",
              "      <td>4</td>\n",
              "      <td>Já te vi em várias reuniões apontando soluções...</td>\n",
              "    </tr>\n",
              "    <tr>\n",
              "      <th>28</th>\n",
              "      <td>Eliana</td>\n",
              "      <td>Relacionamento_Interpessoal</td>\n",
              "      <td>3</td>\n",
              "      <td>Conversamos pouco, mas os diálogos são bons</td>\n",
              "    </tr>\n",
              "    <tr>\n",
              "      <th>29</th>\n",
              "      <td>Eliana</td>\n",
              "      <td>Escuta_Ativa</td>\n",
              "      <td>4</td>\n",
              "      <td>Tem facilidade em ouvir e aceitar mudanças.</td>\n",
              "    </tr>\n",
              "    <tr>\n",
              "      <th>30</th>\n",
              "      <td>Thais</td>\n",
              "      <td>Empatia</td>\n",
              "      <td>3</td>\n",
              "      <td>Está se desenvolvendo muito bem como gestor, e...</td>\n",
              "    </tr>\n",
              "    <tr>\n",
              "      <th>31</th>\n",
              "      <td>Thais</td>\n",
              "      <td>Relacionamento_Interpessoal</td>\n",
              "      <td>3</td>\n",
              "      <td>Sempre respeito, bom dia, boa tarde, com todos...</td>\n",
              "    </tr>\n",
              "    <tr>\n",
              "      <th>32</th>\n",
              "      <td>Thais</td>\n",
              "      <td>Escuta_Ativa</td>\n",
              "      <td>4</td>\n",
              "      <td>Com RH, sempre foi muito prestativo a ouvir e ...</td>\n",
              "    </tr>\n",
              "    <tr>\n",
              "      <th>33</th>\n",
              "      <td>Thalita</td>\n",
              "      <td>Empatia</td>\n",
              "      <td>2</td>\n",
              "      <td>Tem muita empatia com pessoas próximas, mas no...</td>\n",
              "    </tr>\n",
              "    <tr>\n",
              "      <th>34</th>\n",
              "      <td>Thalita</td>\n",
              "      <td>Relacionamento_Interpessoal</td>\n",
              "      <td>4</td>\n",
              "      <td>Muito comunicativo, sabe se expressar e ser ou...</td>\n",
              "    </tr>\n",
              "    <tr>\n",
              "      <th>35</th>\n",
              "      <td>Thalita</td>\n",
              "      <td>Escuta_Ativa</td>\n",
              "      <td>4</td>\n",
              "      <td>Consegue abranger diversos pontos de vista e, ...</td>\n",
              "    </tr>\n",
              "  </tbody>\n",
              "</table>\n",
              "</div>\n",
              "      <button class=\"colab-df-convert\" onclick=\"convertToInteractive('df-7d9c9285-79af-429a-af27-acffe42de284')\"\n",
              "              title=\"Convert this dataframe to an interactive table.\"\n",
              "              style=\"display:none;\">\n",
              "        \n",
              "  <svg xmlns=\"http://www.w3.org/2000/svg\" height=\"24px\"viewBox=\"0 0 24 24\"\n",
              "       width=\"24px\">\n",
              "    <path d=\"M0 0h24v24H0V0z\" fill=\"none\"/>\n",
              "    <path d=\"M18.56 5.44l.94 2.06.94-2.06 2.06-.94-2.06-.94-.94-2.06-.94 2.06-2.06.94zm-11 1L8.5 8.5l.94-2.06 2.06-.94-2.06-.94L8.5 2.5l-.94 2.06-2.06.94zm10 10l.94 2.06.94-2.06 2.06-.94-2.06-.94-.94-2.06-.94 2.06-2.06.94z\"/><path d=\"M17.41 7.96l-1.37-1.37c-.4-.4-.92-.59-1.43-.59-.52 0-1.04.2-1.43.59L10.3 9.45l-7.72 7.72c-.78.78-.78 2.05 0 2.83L4 21.41c.39.39.9.59 1.41.59.51 0 1.02-.2 1.41-.59l7.78-7.78 2.81-2.81c.8-.78.8-2.07 0-2.86zM5.41 20L4 18.59l7.72-7.72 1.47 1.35L5.41 20z\"/>\n",
              "  </svg>\n",
              "      </button>\n",
              "      \n",
              "  <style>\n",
              "    .colab-df-container {\n",
              "      display:flex;\n",
              "      flex-wrap:wrap;\n",
              "      gap: 12px;\n",
              "    }\n",
              "\n",
              "    .colab-df-convert {\n",
              "      background-color: #E8F0FE;\n",
              "      border: none;\n",
              "      border-radius: 50%;\n",
              "      cursor: pointer;\n",
              "      display: none;\n",
              "      fill: #1967D2;\n",
              "      height: 32px;\n",
              "      padding: 0 0 0 0;\n",
              "      width: 32px;\n",
              "    }\n",
              "\n",
              "    .colab-df-convert:hover {\n",
              "      background-color: #E2EBFA;\n",
              "      box-shadow: 0px 1px 2px rgba(60, 64, 67, 0.3), 0px 1px 3px 1px rgba(60, 64, 67, 0.15);\n",
              "      fill: #174EA6;\n",
              "    }\n",
              "\n",
              "    [theme=dark] .colab-df-convert {\n",
              "      background-color: #3B4455;\n",
              "      fill: #D2E3FC;\n",
              "    }\n",
              "\n",
              "    [theme=dark] .colab-df-convert:hover {\n",
              "      background-color: #434B5C;\n",
              "      box-shadow: 0px 1px 3px 1px rgba(0, 0, 0, 0.15);\n",
              "      filter: drop-shadow(0px 1px 2px rgba(0, 0, 0, 0.3));\n",
              "      fill: #FFFFFF;\n",
              "    }\n",
              "  </style>\n",
              "\n",
              "      <script>\n",
              "        const buttonEl =\n",
              "          document.querySelector('#df-7d9c9285-79af-429a-af27-acffe42de284 button.colab-df-convert');\n",
              "        buttonEl.style.display =\n",
              "          google.colab.kernel.accessAllowed ? 'block' : 'none';\n",
              "\n",
              "        async function convertToInteractive(key) {\n",
              "          const element = document.querySelector('#df-7d9c9285-79af-429a-af27-acffe42de284');\n",
              "          const dataTable =\n",
              "            await google.colab.kernel.invokeFunction('convertToInteractive',\n",
              "                                                     [key], {});\n",
              "          if (!dataTable) return;\n",
              "\n",
              "          const docLinkHtml = 'Like what you see? Visit the ' +\n",
              "            '<a target=\"_blank\" href=https://colab.research.google.com/notebooks/data_table.ipynb>data table notebook</a>'\n",
              "            + ' to learn more about interactive tables.';\n",
              "          element.innerHTML = '';\n",
              "          dataTable['output_type'] = 'display_data';\n",
              "          await google.colab.output.renderOutput(dataTable, element);\n",
              "          const docLink = document.createElement('div');\n",
              "          docLink.innerHTML = docLinkHtml;\n",
              "          element.appendChild(docLink);\n",
              "        }\n",
              "      </script>\n",
              "    </div>\n",
              "  </div>\n",
              "  "
            ]
          },
          "metadata": {},
          "execution_count": 3
        }
      ]
    },
    {
      "cell_type": "markdown",
      "source": [
        "# 2. Empathy analysis"
      ],
      "metadata": {
        "id": "LhM5vN8KoXet"
      }
    },
    {
      "cell_type": "code",
      "source": [
        "# Selects all records where subject equals 'Empatia' and stores it in the empathy variable\n",
        "empathy = dataset.Assunto == 'Empatia'"
      ],
      "metadata": {
        "id": "0uY_qYkkzdMA"
      },
      "execution_count": null,
      "outputs": []
    },
    {
      "cell_type": "code",
      "source": [
        "dataset[empathy]"
      ],
      "metadata": {
        "id": "wHzlyPnbzvbG",
        "colab": {
          "base_uri": "https://localhost:8080/",
          "height": 426
        },
        "outputId": "32312cc1-8b3a-4442-cd02-a5406fa422f9"
      },
      "execution_count": null,
      "outputs": [
        {
          "output_type": "execute_result",
          "data": {
            "text/plain": [
              "        Nome  Assunto  Nota                                      Justificativa\n",
              "0    Leticia  Empatia     2  Acredito que você tenha um pouco dificuldade d...\n",
              "3     Michel  Empatia     3  Boa capacidade de compreender as dificuldades ...\n",
              "6    Rodrigo  Empatia     3  É capaz de perceber que um ponto ou outro do s...\n",
              "9     Victor  Empatia     4  Desde o início sempre se mostrou disposto a aj...\n",
              "12  Fabricio  Empatia     4  Acho que você sempre pergunta e tenta entender...\n",
              "15   Patrick  Empatia     3                                Esse aqui está bom.\n",
              "18    Fagner  Empatia     4  Sempre prestativo e comprometido com o resultado.\n",
              "21     Livio  Empatia     2  Pela minha visão você  tenta ter empatia, mas ...\n",
              "24      João  Empatia     4  Esta avaliação se afirma no fato do Mateus  co...\n",
              "27    Eliana  Empatia     4  Já te vi em várias reuniões apontando soluções...\n",
              "30     Thais  Empatia     3  Está se desenvolvendo muito bem como gestor, e...\n",
              "33   Thalita  Empatia     2  Tem muita empatia com pessoas próximas, mas no..."
            ],
            "text/html": [
              "\n",
              "  <div id=\"df-21078490-c603-4c24-be3e-3d968ce2216d\">\n",
              "    <div class=\"colab-df-container\">\n",
              "      <div>\n",
              "<style scoped>\n",
              "    .dataframe tbody tr th:only-of-type {\n",
              "        vertical-align: middle;\n",
              "    }\n",
              "\n",
              "    .dataframe tbody tr th {\n",
              "        vertical-align: top;\n",
              "    }\n",
              "\n",
              "    .dataframe thead th {\n",
              "        text-align: right;\n",
              "    }\n",
              "</style>\n",
              "<table border=\"1\" class=\"dataframe\">\n",
              "  <thead>\n",
              "    <tr style=\"text-align: right;\">\n",
              "      <th></th>\n",
              "      <th>Nome</th>\n",
              "      <th>Assunto</th>\n",
              "      <th>Nota</th>\n",
              "      <th>Justificativa</th>\n",
              "    </tr>\n",
              "  </thead>\n",
              "  <tbody>\n",
              "    <tr>\n",
              "      <th>0</th>\n",
              "      <td>Leticia</td>\n",
              "      <td>Empatia</td>\n",
              "      <td>2</td>\n",
              "      <td>Acredito que você tenha um pouco dificuldade d...</td>\n",
              "    </tr>\n",
              "    <tr>\n",
              "      <th>3</th>\n",
              "      <td>Michel</td>\n",
              "      <td>Empatia</td>\n",
              "      <td>3</td>\n",
              "      <td>Boa capacidade de compreender as dificuldades ...</td>\n",
              "    </tr>\n",
              "    <tr>\n",
              "      <th>6</th>\n",
              "      <td>Rodrigo</td>\n",
              "      <td>Empatia</td>\n",
              "      <td>3</td>\n",
              "      <td>É capaz de perceber que um ponto ou outro do s...</td>\n",
              "    </tr>\n",
              "    <tr>\n",
              "      <th>9</th>\n",
              "      <td>Victor</td>\n",
              "      <td>Empatia</td>\n",
              "      <td>4</td>\n",
              "      <td>Desde o início sempre se mostrou disposto a aj...</td>\n",
              "    </tr>\n",
              "    <tr>\n",
              "      <th>12</th>\n",
              "      <td>Fabricio</td>\n",
              "      <td>Empatia</td>\n",
              "      <td>4</td>\n",
              "      <td>Acho que você sempre pergunta e tenta entender...</td>\n",
              "    </tr>\n",
              "    <tr>\n",
              "      <th>15</th>\n",
              "      <td>Patrick</td>\n",
              "      <td>Empatia</td>\n",
              "      <td>3</td>\n",
              "      <td>Esse aqui está bom.</td>\n",
              "    </tr>\n",
              "    <tr>\n",
              "      <th>18</th>\n",
              "      <td>Fagner</td>\n",
              "      <td>Empatia</td>\n",
              "      <td>4</td>\n",
              "      <td>Sempre prestativo e comprometido com o resultado.</td>\n",
              "    </tr>\n",
              "    <tr>\n",
              "      <th>21</th>\n",
              "      <td>Livio</td>\n",
              "      <td>Empatia</td>\n",
              "      <td>2</td>\n",
              "      <td>Pela minha visão você  tenta ter empatia, mas ...</td>\n",
              "    </tr>\n",
              "    <tr>\n",
              "      <th>24</th>\n",
              "      <td>João</td>\n",
              "      <td>Empatia</td>\n",
              "      <td>4</td>\n",
              "      <td>Esta avaliação se afirma no fato do Mateus  co...</td>\n",
              "    </tr>\n",
              "    <tr>\n",
              "      <th>27</th>\n",
              "      <td>Eliana</td>\n",
              "      <td>Empatia</td>\n",
              "      <td>4</td>\n",
              "      <td>Já te vi em várias reuniões apontando soluções...</td>\n",
              "    </tr>\n",
              "    <tr>\n",
              "      <th>30</th>\n",
              "      <td>Thais</td>\n",
              "      <td>Empatia</td>\n",
              "      <td>3</td>\n",
              "      <td>Está se desenvolvendo muito bem como gestor, e...</td>\n",
              "    </tr>\n",
              "    <tr>\n",
              "      <th>33</th>\n",
              "      <td>Thalita</td>\n",
              "      <td>Empatia</td>\n",
              "      <td>2</td>\n",
              "      <td>Tem muita empatia com pessoas próximas, mas no...</td>\n",
              "    </tr>\n",
              "  </tbody>\n",
              "</table>\n",
              "</div>\n",
              "      <button class=\"colab-df-convert\" onclick=\"convertToInteractive('df-21078490-c603-4c24-be3e-3d968ce2216d')\"\n",
              "              title=\"Convert this dataframe to an interactive table.\"\n",
              "              style=\"display:none;\">\n",
              "        \n",
              "  <svg xmlns=\"http://www.w3.org/2000/svg\" height=\"24px\"viewBox=\"0 0 24 24\"\n",
              "       width=\"24px\">\n",
              "    <path d=\"M0 0h24v24H0V0z\" fill=\"none\"/>\n",
              "    <path d=\"M18.56 5.44l.94 2.06.94-2.06 2.06-.94-2.06-.94-.94-2.06-.94 2.06-2.06.94zm-11 1L8.5 8.5l.94-2.06 2.06-.94-2.06-.94L8.5 2.5l-.94 2.06-2.06.94zm10 10l.94 2.06.94-2.06 2.06-.94-2.06-.94-.94-2.06-.94 2.06-2.06.94z\"/><path d=\"M17.41 7.96l-1.37-1.37c-.4-.4-.92-.59-1.43-.59-.52 0-1.04.2-1.43.59L10.3 9.45l-7.72 7.72c-.78.78-.78 2.05 0 2.83L4 21.41c.39.39.9.59 1.41.59.51 0 1.02-.2 1.41-.59l7.78-7.78 2.81-2.81c.8-.78.8-2.07 0-2.86zM5.41 20L4 18.59l7.72-7.72 1.47 1.35L5.41 20z\"/>\n",
              "  </svg>\n",
              "      </button>\n",
              "      \n",
              "  <style>\n",
              "    .colab-df-container {\n",
              "      display:flex;\n",
              "      flex-wrap:wrap;\n",
              "      gap: 12px;\n",
              "    }\n",
              "\n",
              "    .colab-df-convert {\n",
              "      background-color: #E8F0FE;\n",
              "      border: none;\n",
              "      border-radius: 50%;\n",
              "      cursor: pointer;\n",
              "      display: none;\n",
              "      fill: #1967D2;\n",
              "      height: 32px;\n",
              "      padding: 0 0 0 0;\n",
              "      width: 32px;\n",
              "    }\n",
              "\n",
              "    .colab-df-convert:hover {\n",
              "      background-color: #E2EBFA;\n",
              "      box-shadow: 0px 1px 2px rgba(60, 64, 67, 0.3), 0px 1px 3px 1px rgba(60, 64, 67, 0.15);\n",
              "      fill: #174EA6;\n",
              "    }\n",
              "\n",
              "    [theme=dark] .colab-df-convert {\n",
              "      background-color: #3B4455;\n",
              "      fill: #D2E3FC;\n",
              "    }\n",
              "\n",
              "    [theme=dark] .colab-df-convert:hover {\n",
              "      background-color: #434B5C;\n",
              "      box-shadow: 0px 1px 3px 1px rgba(0, 0, 0, 0.15);\n",
              "      filter: drop-shadow(0px 1px 2px rgba(0, 0, 0, 0.3));\n",
              "      fill: #FFFFFF;\n",
              "    }\n",
              "  </style>\n",
              "\n",
              "      <script>\n",
              "        const buttonEl =\n",
              "          document.querySelector('#df-21078490-c603-4c24-be3e-3d968ce2216d button.colab-df-convert');\n",
              "        buttonEl.style.display =\n",
              "          google.colab.kernel.accessAllowed ? 'block' : 'none';\n",
              "\n",
              "        async function convertToInteractive(key) {\n",
              "          const element = document.querySelector('#df-21078490-c603-4c24-be3e-3d968ce2216d');\n",
              "          const dataTable =\n",
              "            await google.colab.kernel.invokeFunction('convertToInteractive',\n",
              "                                                     [key], {});\n",
              "          if (!dataTable) return;\n",
              "\n",
              "          const docLinkHtml = 'Like what you see? Visit the ' +\n",
              "            '<a target=\"_blank\" href=https://colab.research.google.com/notebooks/data_table.ipynb>data table notebook</a>'\n",
              "            + ' to learn more about interactive tables.';\n",
              "          element.innerHTML = '';\n",
              "          dataTable['output_type'] = 'display_data';\n",
              "          await google.colab.output.renderOutput(dataTable, element);\n",
              "          const docLink = document.createElement('div');\n",
              "          docLink.innerHTML = docLinkHtml;\n",
              "          element.appendChild(docLink);\n",
              "        }\n",
              "      </script>\n",
              "    </div>\n",
              "  </div>\n",
              "  "
            ]
          },
          "metadata": {},
          "execution_count": 48
        }
      ]
    },
    {
      "cell_type": "markdown",
      "source": [
        "**Graph with empathy assesments**"
      ],
      "metadata": {
        "id": "2mK2G3xTeUjU"
      }
    },
    {
      "cell_type": "code",
      "source": [
        "# Creates a list with only the empathy notes\n",
        "empathy_notes = list()\n",
        "for index, row in dataset[empathy].iterrows():\n",
        " empathy_notes.append(dataset.loc[index, 'Nota'])"
      ],
      "metadata": {
        "id": "RZoF7Tf8f35i"
      },
      "execution_count": null,
      "outputs": []
    },
    {
      "cell_type": "code",
      "source": [
        "empathy_notes"
      ],
      "metadata": {
        "colab": {
          "base_uri": "https://localhost:8080/"
        },
        "id": "WUDZY1lmhF2a",
        "outputId": "25abb97a-7f1f-4cb2-ad91-4b713e4bde37"
      },
      "execution_count": null,
      "outputs": [
        {
          "output_type": "execute_result",
          "data": {
            "text/plain": [
              "[2, 3, 3, 4, 4, 3, 4, 2, 4, 4, 3, 2]"
            ]
          },
          "metadata": {},
          "execution_count": 50
        }
      ]
    },
    {
      "cell_type": "code",
      "source": [
        "x = list(range(1, len(empathy_notes)+1))\n",
        "y = empathy_notes\n",
        "plt.plot(x, y, marker='o')\n",
        "plt.title('Empathy Assesments')\n",
        "plt.xlabel('Notes')\n",
        "plt.ylabel('Indice')\n",
        "plt.show()"
      ],
      "metadata": {
        "colab": {
          "base_uri": "https://localhost:8080/",
          "height": 295
        },
        "id": "trkzTe-ZehYb",
        "outputId": "c28d4ac5-0382-4f39-bfdb-2b901cfd2c9f"
      },
      "execution_count": null,
      "outputs": [
        {
          "output_type": "display_data",
          "data": {
            "text/plain": [
              "<Figure size 432x288 with 1 Axes>"
            ],
            "image/png": "[encoded data removed]"
          },
          "metadata": {
            "needs_background": "light"
          }
        }
      ]
    },
    {
      "cell_type": "markdown",
      "source": [
        "## 2.1. Empathy mean"
      ],
      "metadata": {
        "id": "xHKJd9RwcDy9"
      }
    },
    {
      "cell_type": "code",
      "source": [
        "# Calculating the empathy mean\n",
        "empathy_total = 0\n",
        "empathy_average = 0\n",
        "for index, row in dataset[empathy].iterrows():\n",
        "  empathy_total += dataset.loc[index, 'Nota']\n",
        "\n",
        "empathy_average = empathy_total / len(dataset[empathy])"
      ],
      "metadata": {
        "id": "e1QKBgFdzdOp"
      },
      "execution_count": null,
      "outputs": []
    },
    {
      "cell_type": "code",
      "source": [
        "print('The empathy average is: ', empathy_average)"
      ],
      "metadata": {
        "id": "CNQ9aPDCxF7K",
        "colab": {
          "base_uri": "https://localhost:8080/"
        },
        "outputId": "de6a99cd-447b-430e-fc18-7d3bc0515f49"
      },
      "execution_count": null,
      "outputs": [
        {
          "output_type": "stream",
          "name": "stdout",
          "text": [
            "The empathy average is:  3.1666666666666665\n"
          ]
        }
      ]
    },
    {
      "cell_type": "code",
      "source": [
        "# This way return the mean of the 'empathy_notes', however it is returning an integer instead of a float.\n",
        "# media = statistics.mean(empathy_notes)\n",
        "# media"
      ],
      "metadata": {
        "id": "35cCVli0H9N4"
      },
      "execution_count": null,
      "outputs": []
    },
    {
      "cell_type": "markdown",
      "source": [
        "## 2.2. Empathy mode"
      ],
      "metadata": {
        "id": "YIpsNQp_cKC3"
      }
    },
    {
      "cell_type": "code",
      "source": [
        "# Find the mode of empathy\n",
        "empathy_mode = statistics.mode(empathy_notes)"
      ],
      "metadata": {
        "id": "RTkW_prV0css"
      },
      "execution_count": null,
      "outputs": []
    },
    {
      "cell_type": "code",
      "source": [
        "print('The empathy mode is: ', empathy_mode)"
      ],
      "metadata": {
        "id": "HCzl5mG2vZ9p",
        "colab": {
          "base_uri": "https://localhost:8080/"
        },
        "outputId": "1e63dec2-29e3-423f-9986-ea873c6e75d9"
      },
      "execution_count": null,
      "outputs": [
        {
          "output_type": "stream",
          "name": "stdout",
          "text": [
            "The empathy mode is:  4\n"
          ]
        }
      ]
    },
    {
      "cell_type": "markdown",
      "source": [
        "## 2.3. Lowest empathy ratings"
      ],
      "metadata": {
        "id": "c_pVJmgScahX"
      }
    },
    {
      "cell_type": "code",
      "source": [
        "# Find the lowest empathy ratings\n",
        "empathy_min = min(empathy_notes)\n",
        "empathy_min"
      ],
      "metadata": {
        "id": "aDMvmbMHceoU",
        "colab": {
          "base_uri": "https://localhost:8080/"
        },
        "outputId": "c9fb022a-9eeb-4c91-a526-b9848ee049e5"
      },
      "execution_count": null,
      "outputs": [
        {
          "output_type": "execute_result",
          "data": {
            "text/plain": [
              "2"
            ]
          },
          "metadata": {},
          "execution_count": 57
        }
      ]
    },
    {
      "cell_type": "code",
      "source": [
        "# Create a dataset only empathy ratings == 2\n",
        "dt_empathy_min = dataset[(dataset.Assunto == 'Empatia') & (dataset.Nota == 2)]"
      ],
      "metadata": {
        "id": "AmKlmNLQcftn"
      },
      "execution_count": null,
      "outputs": []
    },
    {
      "cell_type": "code",
      "source": [
        "# Displays the justification where the evaluation was equal to 2\n",
        "dt_empathy_min.loc[:, ['Nota', 'Justificativa']]"
      ],
      "metadata": {
        "colab": {
          "base_uri": "https://localhost:8080/"
        },
        "id": "nvu9Hxnwihi6",
        "outputId": "c0b689d2-0e10-4a60-ffbd-70899365de54"
      },
      "execution_count": null,
      "outputs": [
        {
          "output_type": "execute_result",
          "data": {
            "text/plain": [
              "    Nota                                      Justificativa\n",
              "0      2  Acredito que você tenha um pouco dificuldade d...\n",
              "21     2  Pela minha visão você  tenta ter empatia, mas ...\n",
              "33     2  Tem muita empatia com pessoas próximas, mas no..."
            ],
            "text/html": [
              "\n",
              "  <div id=\"df-c4264db2-3ff5-4e92-aee4-78d2adbf1917\">\n",
              "    <div class=\"colab-df-container\">\n",
              "      <div>\n",
              "<style scoped>\n",
              "    .dataframe tbody tr th:only-of-type {\n",
              "        vertical-align: middle;\n",
              "    }\n",
              "\n",
              "    .dataframe tbody tr th {\n",
              "        vertical-align: top;\n",
              "    }\n",
              "\n",
              "    .dataframe thead th {\n",
              "        text-align: right;\n",
              "    }\n",
              "</style>\n",
              "<table border=\"1\" class=\"dataframe\">\n",
              "  <thead>\n",
              "    <tr style=\"text-align: right;\">\n",
              "      <th></th>\n",
              "      <th>Nota</th>\n",
              "      <th>Justificativa</th>\n",
              "    </tr>\n",
              "  </thead>\n",
              "  <tbody>\n",
              "    <tr>\n",
              "      <th>0</th>\n",
              "      <td>2</td>\n",
              "      <td>Acredito que você tenha um pouco dificuldade d...</td>\n",
              "    </tr>\n",
              "    <tr>\n",
              "      <th>21</th>\n",
              "      <td>2</td>\n",
              "      <td>Pela minha visão você  tenta ter empatia, mas ...</td>\n",
              "    </tr>\n",
              "    <tr>\n",
              "      <th>33</th>\n",
              "      <td>2</td>\n",
              "      <td>Tem muita empatia com pessoas próximas, mas no...</td>\n",
              "    </tr>\n",
              "  </tbody>\n",
              "</table>\n",
              "</div>\n",
              "      <button class=\"colab-df-convert\" onclick=\"convertToInteractive('df-c4264db2-3ff5-4e92-aee4-78d2adbf1917')\"\n",
              "              title=\"Convert this dataframe to an interactive table.\"\n",
              "              style=\"display:none;\">\n",
              "        \n",
              "  <svg xmlns=\"http://www.w3.org/2000/svg\" height=\"24px\"viewBox=\"0 0 24 24\"\n",
              "       width=\"24px\">\n",
              "    <path d=\"M0 0h24v24H0V0z\" fill=\"none\"/>\n",
              "    <path d=\"M18.56 5.44l.94 2.06.94-2.06 2.06-.94-2.06-.94-.94-2.06-.94 2.06-2.06.94zm-11 1L8.5 8.5l.94-2.06 2.06-.94-2.06-.94L8.5 2.5l-.94 2.06-2.06.94zm10 10l.94 2.06.94-2.06 2.06-.94-2.06-.94-.94-2.06-.94 2.06-2.06.94z\"/><path d=\"M17.41 7.96l-1.37-1.37c-.4-.4-.92-.59-1.43-.59-.52 0-1.04.2-1.43.59L10.3 9.45l-7.72 7.72c-.78.78-.78 2.05 0 2.83L4 21.41c.39.39.9.59 1.41.59.51 0 1.02-.2 1.41-.59l7.78-7.78 2.81-2.81c.8-.78.8-2.07 0-2.86zM5.41 20L4 18.59l7.72-7.72 1.47 1.35L5.41 20z\"/>\n",
              "  </svg>\n",
              "      </button>\n",
              "      \n",
              "  <style>\n",
              "    .colab-df-container {\n",
              "      display:flex;\n",
              "      flex-wrap:wrap;\n",
              "      gap: 12px;\n",
              "    }\n",
              "\n",
              "    .colab-df-convert {\n",
              "      background-color: #E8F0FE;\n",
              "      border: none;\n",
              "      border-radius: 50%;\n",
              "      cursor: pointer;\n",
              "      display: none;\n",
              "      fill: #1967D2;\n",
              "      height: 32px;\n",
              "      padding: 0 0 0 0;\n",
              "      width: 32px;\n",
              "    }\n",
              "\n",
              "    .colab-df-convert:hover {\n",
              "      background-color: #E2EBFA;\n",
              "      box-shadow: 0px 1px 2px rgba(60, 64, 67, 0.3), 0px 1px 3px 1px rgba(60, 64, 67, 0.15);\n",
              "      fill: #174EA6;\n",
              "    }\n",
              "\n",
              "    [theme=dark] .colab-df-convert {\n",
              "      background-color: #3B4455;\n",
              "      fill: #D2E3FC;\n",
              "    }\n",
              "\n",
              "    [theme=dark] .colab-df-convert:hover {\n",
              "      background-color: #434B5C;\n",
              "      box-shadow: 0px 1px 3px 1px rgba(0, 0, 0, 0.15);\n",
              "      filter: drop-shadow(0px 1px 2px rgba(0, 0, 0, 0.3));\n",
              "      fill: #FFFFFF;\n",
              "    }\n",
              "  </style>\n",
              "\n",
              "      <script>\n",
              "        const buttonEl =\n",
              "          document.querySelector('#df-c4264db2-3ff5-4e92-aee4-78d2adbf1917 button.colab-df-convert');\n",
              "        buttonEl.style.display =\n",
              "          google.colab.kernel.accessAllowed ? 'block' : 'none';\n",
              "\n",
              "        async function convertToInteractive(key) {\n",
              "          const element = document.querySelector('#df-c4264db2-3ff5-4e92-aee4-78d2adbf1917');\n",
              "          const dataTable =\n",
              "            await google.colab.kernel.invokeFunction('convertToInteractive',\n",
              "                                                     [key], {});\n",
              "          if (!dataTable) return;\n",
              "\n",
              "          const docLinkHtml = 'Like what you see? Visit the ' +\n",
              "            '<a target=\"_blank\" href=https://colab.research.google.com/notebooks/data_table.ipynb>data table notebook</a>'\n",
              "            + ' to learn more about interactive tables.';\n",
              "          element.innerHTML = '';\n",
              "          dataTable['output_type'] = 'display_data';\n",
              "          await google.colab.output.renderOutput(dataTable, element);\n",
              "          const docLink = document.createElement('div');\n",
              "          docLink.innerHTML = docLinkHtml;\n",
              "          element.appendChild(docLink);\n",
              "        }\n",
              "      </script>\n",
              "    </div>\n",
              "  </div>\n",
              "  "
            ]
          },
          "metadata": {},
          "execution_count": 59
        }
      ]
    },
    {
      "cell_type": "markdown",
      "source": [
        "## 2.4. Conclusions about empathy"
      ],
      "metadata": {
        "id": "nIn6BNQdH9K0"
      }
    },
    {
      "cell_type": "markdown",
      "source": [
        "* 25% of people gave me a rating of 2;\n",
        "  * Empathy was, along with Active Listening, the subjects that most received a score of 2;\n",
        "* 33,33% of people gave me a rating of 3;\n",
        "* 41,67% of people gave me a rating of 4;\n",
        "  * Of the three subjects, Empathy received the least score of 4;"
      ],
      "metadata": {
        "id": "VU0cfN0l9NDX"
      }
    },
    {
      "cell_type": "markdown",
      "source": [
        "### **Positive highlights:** \n",
        "\n",
        "Always willing to help, he asks and tries to understand the point of view of others.\n",
        "Committed to results and problem solving.\n",
        "\n"
      ],
      "metadata": {
        "id": "8W-Eq84JElae"
      }
    },
    {
      "cell_type": "markdown",
      "source": [
        "### **Negative points (to be improved):**\n",
        "\n",
        "He still has difficulty putting himself and seeing things from the point of view of others, especially when they are \"unknown\" people.\n"
      ],
      "metadata": {
        "id": "m-vH9BJ8Htm0"
      }
    },
    {
      "cell_type": "markdown",
      "source": [
        "### **My considerations:**\n",
        "\n",
        "I believe that I can really get better at putting myself in the shoes of others, especially in controversial matters or in times of stress.\n",
        "\n",
        "However, I believe that empathy is a two-way street and, often, we only expect others to empathize with us."
      ],
      "metadata": {
        "id": "edNLSi_aJAri"
      }
    },
    {
      "cell_type": "markdown",
      "source": [
        "# 3. Interpersonal relationship analysis"
      ],
      "metadata": {
        "id": "ruYG_t7xcg8V"
      }
    },
    {
      "cell_type": "code",
      "source": [
        "# Selects all records where subject equals 'Relacionamento_Interpessoal' and stores it in the IR variable\n",
        "interpessoal_relationship = dataset.Assunto == 'Relacionamento_Interpessoal'"
      ],
      "metadata": {
        "id": "K5wFLM9ZckHU"
      },
      "execution_count": null,
      "outputs": []
    },
    {
      "cell_type": "code",
      "source": [
        "dataset[interpessoal_relationship]"
      ],
      "metadata": {
        "colab": {
          "base_uri": "https://localhost:8080/",
          "height": 426
        },
        "id": "q-fMbqfwIXZt",
        "outputId": "d3736be7-f32f-41e4-ddf1-96452cc93aef"
      },
      "execution_count": null,
      "outputs": [
        {
          "output_type": "execute_result",
          "data": {
            "text/plain": [
              "        Nome                      Assunto  Nota                                      Justificativa\n",
              "1    Leticia  Relacionamento_Interpessoal     4  Eu acho que você sabe se comunicar muito bem i...\n",
              "4     Michel  Relacionamento_Interpessoal     3  Boa intermediação entre os diferentes times, p...\n",
              "7    Rodrigo  Relacionamento_Interpessoal     4  É bastante fácil trabalhar com você, me sinto ...\n",
              "10    Victor  Relacionamento_Interpessoal     4  Bem comunicativo, possui uma personalidade fác...\n",
              "13  Fabricio  Relacionamento_Interpessoal     4  Na minha opinião, sua relação é muito boa. Sua...\n",
              "16   Patrick  Relacionamento_Interpessoal     3                        Esse aqui também, nada mal.\n",
              "19    Fagner  Relacionamento_Interpessoal     2  Sempre disposto a conversar com a equipe, mant...\n",
              "22     Livio  Relacionamento_Interpessoal     2  Você interage com todos de forma adequada, ach...\n",
              "25      João  Relacionamento_Interpessoal     4  Temos com frequência , apresentação de projeto...\n",
              "28    Eliana  Relacionamento_Interpessoal     3        Conversamos pouco, mas os diálogos são bons\n",
              "31     Thais  Relacionamento_Interpessoal     3  Sempre respeito, bom dia, boa tarde, com todos...\n",
              "34   Thalita  Relacionamento_Interpessoal     4  Muito comunicativo, sabe se expressar e ser ou..."
            ],
            "text/html": [
              "\n",
              "  <div id=\"df-7a69df17-838e-48e9-ad5f-65e38b417e9d\">\n",
              "    <div class=\"colab-df-container\">\n",
              "      <div>\n",
              "<style scoped>\n",
              "    .dataframe tbody tr th:only-of-type {\n",
              "        vertical-align: middle;\n",
              "    }\n",
              "\n",
              "    .dataframe tbody tr th {\n",
              "        vertical-align: top;\n",
              "    }\n",
              "\n",
              "    .dataframe thead th {\n",
              "        text-align: right;\n",
              "    }\n",
              "</style>\n",
              "<table border=\"1\" class=\"dataframe\">\n",
              "  <thead>\n",
              "    <tr style=\"text-align: right;\">\n",
              "      <th></th>\n",
              "      <th>Nome</th>\n",
              "      <th>Assunto</th>\n",
              "      <th>Nota</th>\n",
              "      <th>Justificativa</th>\n",
              "    </tr>\n",
              "  </thead>\n",
              "  <tbody>\n",
              "    <tr>\n",
              "      <th>1</th>\n",
              "      <td>Leticia</td>\n",
              "      <td>Relacionamento_Interpessoal</td>\n",
              "      <td>4</td>\n",
              "      <td>Eu acho que você sabe se comunicar muito bem i...</td>\n",
              "    </tr>\n",
              "    <tr>\n",
              "      <th>4</th>\n",
              "      <td>Michel</td>\n",
              "      <td>Relacionamento_Interpessoal</td>\n",
              "      <td>3</td>\n",
              "      <td>Boa intermediação entre os diferentes times, p...</td>\n",
              "    </tr>\n",
              "    <tr>\n",
              "      <th>7</th>\n",
              "      <td>Rodrigo</td>\n",
              "      <td>Relacionamento_Interpessoal</td>\n",
              "      <td>4</td>\n",
              "      <td>É bastante fácil trabalhar com você, me sinto ...</td>\n",
              "    </tr>\n",
              "    <tr>\n",
              "      <th>10</th>\n",
              "      <td>Victor</td>\n",
              "      <td>Relacionamento_Interpessoal</td>\n",
              "      <td>4</td>\n",
              "      <td>Bem comunicativo, possui uma personalidade fác...</td>\n",
              "    </tr>\n",
              "    <tr>\n",
              "      <th>13</th>\n",
              "      <td>Fabricio</td>\n",
              "      <td>Relacionamento_Interpessoal</td>\n",
              "      <td>4</td>\n",
              "      <td>Na minha opinião, sua relação é muito boa. Sua...</td>\n",
              "    </tr>\n",
              "    <tr>\n",
              "      <th>16</th>\n",
              "      <td>Patrick</td>\n",
              "      <td>Relacionamento_Interpessoal</td>\n",
              "      <td>3</td>\n",
              "      <td>Esse aqui também, nada mal.</td>\n",
              "    </tr>\n",
              "    <tr>\n",
              "      <th>19</th>\n",
              "      <td>Fagner</td>\n",
              "      <td>Relacionamento_Interpessoal</td>\n",
              "      <td>2</td>\n",
              "      <td>Sempre disposto a conversar com a equipe, mant...</td>\n",
              "    </tr>\n",
              "    <tr>\n",
              "      <th>22</th>\n",
              "      <td>Livio</td>\n",
              "      <td>Relacionamento_Interpessoal</td>\n",
              "      <td>2</td>\n",
              "      <td>Você interage com todos de forma adequada, ach...</td>\n",
              "    </tr>\n",
              "    <tr>\n",
              "      <th>25</th>\n",
              "      <td>João</td>\n",
              "      <td>Relacionamento_Interpessoal</td>\n",
              "      <td>4</td>\n",
              "      <td>Temos com frequência , apresentação de projeto...</td>\n",
              "    </tr>\n",
              "    <tr>\n",
              "      <th>28</th>\n",
              "      <td>Eliana</td>\n",
              "      <td>Relacionamento_Interpessoal</td>\n",
              "      <td>3</td>\n",
              "      <td>Conversamos pouco, mas os diálogos são bons</td>\n",
              "    </tr>\n",
              "    <tr>\n",
              "      <th>31</th>\n",
              "      <td>Thais</td>\n",
              "      <td>Relacionamento_Interpessoal</td>\n",
              "      <td>3</td>\n",
              "      <td>Sempre respeito, bom dia, boa tarde, com todos...</td>\n",
              "    </tr>\n",
              "    <tr>\n",
              "      <th>34</th>\n",
              "      <td>Thalita</td>\n",
              "      <td>Relacionamento_Interpessoal</td>\n",
              "      <td>4</td>\n",
              "      <td>Muito comunicativo, sabe se expressar e ser ou...</td>\n",
              "    </tr>\n",
              "  </tbody>\n",
              "</table>\n",
              "</div>\n",
              "      <button class=\"colab-df-convert\" onclick=\"convertToInteractive('df-7a69df17-838e-48e9-ad5f-65e38b417e9d')\"\n",
              "              title=\"Convert this dataframe to an interactive table.\"\n",
              "              style=\"display:none;\">\n",
              "        \n",
              "  <svg xmlns=\"http://www.w3.org/2000/svg\" height=\"24px\"viewBox=\"0 0 24 24\"\n",
              "       width=\"24px\">\n",
              "    <path d=\"M0 0h24v24H0V0z\" fill=\"none\"/>\n",
              "    <path d=\"M18.56 5.44l.94 2.06.94-2.06 2.06-.94-2.06-.94-.94-2.06-.94 2.06-2.06.94zm-11 1L8.5 8.5l.94-2.06 2.06-.94-2.06-.94L8.5 2.5l-.94 2.06-2.06.94zm10 10l.94 2.06.94-2.06 2.06-.94-2.06-.94-.94-2.06-.94 2.06-2.06.94z\"/><path d=\"M17.41 7.96l-1.37-1.37c-.4-.4-.92-.59-1.43-.59-.52 0-1.04.2-1.43.59L10.3 9.45l-7.72 7.72c-.78.78-.78 2.05 0 2.83L4 21.41c.39.39.9.59 1.41.59.51 0 1.02-.2 1.41-.59l7.78-7.78 2.81-2.81c.8-.78.8-2.07 0-2.86zM5.41 20L4 18.59l7.72-7.72 1.47 1.35L5.41 20z\"/>\n",
              "  </svg>\n",
              "      </button>\n",
              "      \n",
              "  <style>\n",
              "    .colab-df-container {\n",
              "      display:flex;\n",
              "      flex-wrap:wrap;\n",
              "      gap: 12px;\n",
              "    }\n",
              "\n",
              "    .colab-df-convert {\n",
              "      background-color: #E8F0FE;\n",
              "      border: none;\n",
              "      border-radius: 50%;\n",
              "      cursor: pointer;\n",
              "      display: none;\n",
              "      fill: #1967D2;\n",
              "      height: 32px;\n",
              "      padding: 0 0 0 0;\n",
              "      width: 32px;\n",
              "    }\n",
              "\n",
              "    .colab-df-convert:hover {\n",
              "      background-color: #E2EBFA;\n",
              "      box-shadow: 0px 1px 2px rgba(60, 64, 67, 0.3), 0px 1px 3px 1px rgba(60, 64, 67, 0.15);\n",
              "      fill: #174EA6;\n",
              "    }\n",
              "\n",
              "    [theme=dark] .colab-df-convert {\n",
              "      background-color: #3B4455;\n",
              "      fill: #D2E3FC;\n",
              "    }\n",
              "\n",
              "    [theme=dark] .colab-df-convert:hover {\n",
              "      background-color: #434B5C;\n",
              "      box-shadow: 0px 1px 3px 1px rgba(0, 0, 0, 0.15);\n",
              "      filter: drop-shadow(0px 1px 2px rgba(0, 0, 0, 0.3));\n",
              "      fill: #FFFFFF;\n",
              "    }\n",
              "  </style>\n",
              "\n",
              "      <script>\n",
              "        const buttonEl =\n",
              "          document.querySelector('#df-7a69df17-838e-48e9-ad5f-65e38b417e9d button.colab-df-convert');\n",
              "        buttonEl.style.display =\n",
              "          google.colab.kernel.accessAllowed ? 'block' : 'none';\n",
              "\n",
              "        async function convertToInteractive(key) {\n",
              "          const element = document.querySelector('#df-7a69df17-838e-48e9-ad5f-65e38b417e9d');\n",
              "          const dataTable =\n",
              "            await google.colab.kernel.invokeFunction('convertToInteractive',\n",
              "                                                     [key], {});\n",
              "          if (!dataTable) return;\n",
              "\n",
              "          const docLinkHtml = 'Like what you see? Visit the ' +\n",
              "            '<a target=\"_blank\" href=https://colab.research.google.com/notebooks/data_table.ipynb>data table notebook</a>'\n",
              "            + ' to learn more about interactive tables.';\n",
              "          element.innerHTML = '';\n",
              "          dataTable['output_type'] = 'display_data';\n",
              "          await google.colab.output.renderOutput(dataTable, element);\n",
              "          const docLink = document.createElement('div');\n",
              "          docLink.innerHTML = docLinkHtml;\n",
              "          element.appendChild(docLink);\n",
              "        }\n",
              "      </script>\n",
              "    </div>\n",
              "  </div>\n",
              "  "
            ]
          },
          "metadata": {},
          "execution_count": 61
        }
      ]
    },
    {
      "cell_type": "markdown",
      "source": [
        "**Graph with interpessoal relationship assesments**"
      ],
      "metadata": {
        "id": "poJeXwowJNeg"
      }
    },
    {
      "cell_type": "code",
      "source": [
        "# Creates a list with only the IR notes\n",
        "ir_notes = list()\n",
        "for index, row in dataset[interpessoal_relationship].iterrows():\n",
        " ir_notes.append(dataset.loc[index, 'Nota'])"
      ],
      "metadata": {
        "id": "s4MSXS6vIlzI"
      },
      "execution_count": null,
      "outputs": []
    },
    {
      "cell_type": "code",
      "source": [
        "ir_notes"
      ],
      "metadata": {
        "colab": {
          "base_uri": "https://localhost:8080/"
        },
        "id": "Nmjz09qlJNTB",
        "outputId": "1c6783d8-4c20-4651-ec33-cd47e54e4798"
      },
      "execution_count": null,
      "outputs": [
        {
          "output_type": "execute_result",
          "data": {
            "text/plain": [
              "[4, 3, 4, 4, 4, 3, 2, 2, 4, 3, 3, 4]"
            ]
          },
          "metadata": {},
          "execution_count": 63
        }
      ]
    },
    {
      "cell_type": "code",
      "source": [
        "x = list(range(1, len(ir_notes)+1))\n",
        "y = ir_notes\n",
        "plt.plot(x, y, marker='o')\n",
        "plt.title('Interpessoal Relationship Assesments')\n",
        "plt.xlabel('Notes')\n",
        "plt.ylabel('Indice')\n",
        "plt.show()"
      ],
      "metadata": {
        "colab": {
          "base_uri": "https://localhost:8080/",
          "height": 295
        },
        "id": "Rcfy59USKMFO",
        "outputId": "7991b0f2-95f7-46d6-d143-854199b526da"
      },
      "execution_count": null,
      "outputs": [
        {
          "output_type": "display_data",
          "data": {
            "text/plain": [
              "<Figure size 432x288 with 1 Axes>"
            ],
            "image/png": "[encoded data removed]"
          },
          "metadata": {
            "needs_background": "light"
          }
        }
      ]
    },
    {
      "cell_type": "markdown",
      "source": [
        "## 3.1. Interpersonal relationship average"
      ],
      "metadata": {
        "id": "Cqu9qaF4R7RT"
      }
    },
    {
      "cell_type": "code",
      "source": [
        "# Calculating the IR average\n",
        "ir_total = 0\n",
        "ir_average = 0\n",
        "for index, row in dataset[interpessoal_relationship].iterrows():\n",
        "  ir_total += dataset.loc[index, 'Nota']\n",
        "\n",
        "ir_average = ir_total / len(dataset[interpessoal_relationship])"
      ],
      "metadata": {
        "id": "vvaz5yMSIZSa"
      },
      "execution_count": null,
      "outputs": []
    },
    {
      "cell_type": "code",
      "source": [
        "print('The interpessoal relationship average is: ', ir_average)"
      ],
      "metadata": {
        "colab": {
          "base_uri": "https://localhost:8080/"
        },
        "id": "bLijApC9Ilwl",
        "outputId": "6cf36544-42a8-435d-9839-df44e4eab520"
      },
      "execution_count": null,
      "outputs": [
        {
          "output_type": "stream",
          "name": "stdout",
          "text": [
            "The interpessoal relationship average is:  3.3333333333333335\n"
          ]
        }
      ]
    },
    {
      "cell_type": "markdown",
      "source": [
        "## 3.2. Interpersonal relationship mode"
      ],
      "metadata": {
        "id": "mkBQvYflLjYh"
      }
    },
    {
      "cell_type": "code",
      "source": [
        "# Find the mode of interpersonal relationship\n",
        "ir_mode = statistics.mode(ir_notes)"
      ],
      "metadata": {
        "id": "by9BD7rxKSxn"
      },
      "execution_count": null,
      "outputs": []
    },
    {
      "cell_type": "code",
      "source": [
        "print('The interpersonal relationship mode is: ', ir_mode)"
      ],
      "metadata": {
        "colab": {
          "base_uri": "https://localhost:8080/"
        },
        "id": "Q7sm25xLIg_V",
        "outputId": "f5a8e6bb-2b02-4943-aa2a-4413e40a8393"
      },
      "execution_count": null,
      "outputs": [
        {
          "output_type": "stream",
          "name": "stdout",
          "text": [
            "The interpersonal relationship mode is:  4\n"
          ]
        }
      ]
    },
    {
      "cell_type": "markdown",
      "source": [
        "## 3.3. Lowest interpersonal relationship ratings"
      ],
      "metadata": {
        "id": "J2KYqHjiI1tY"
      }
    },
    {
      "cell_type": "code",
      "source": [
        "# Find the lowest interpersonal relationship ratings\n",
        "ir_min = min(ir_notes)\n",
        "ir_min"
      ],
      "metadata": {
        "colab": {
          "base_uri": "https://localhost:8080/"
        },
        "id": "6__M2Ii5IhBJ",
        "outputId": "92202517-f652-4d5a-d70c-1e965d1edd93"
      },
      "execution_count": null,
      "outputs": [
        {
          "output_type": "execute_result",
          "data": {
            "text/plain": [
              "2"
            ]
          },
          "metadata": {},
          "execution_count": 69
        }
      ]
    },
    {
      "cell_type": "code",
      "source": [
        "# Create a dataset only interpersonal relationship == 2\n",
        "dt_ir_min = dataset[(dataset.Assunto == 'Relacionamento_Interpessoal') & (dataset.Nota == 2)]"
      ],
      "metadata": {
        "id": "1yeeJjtdIhCt"
      },
      "execution_count": null,
      "outputs": []
    },
    {
      "cell_type": "code",
      "source": [
        "# Displays the justification where the evaluation was equal to 2\n",
        "dt_ir_min.loc[:, ['Nota', 'Justificativa']]"
      ],
      "metadata": {
        "colab": {
          "base_uri": "https://localhost:8080/"
        },
        "id": "-xsk3-JiQ0Cm",
        "outputId": "434d598c-9bd0-4031-faa5-c66b23d3e906"
      },
      "execution_count": null,
      "outputs": [
        {
          "output_type": "execute_result",
          "data": {
            "text/plain": [
              "    Nota                                      Justificativa\n",
              "19     2  Sempre disposto a conversar com a equipe, mant...\n",
              "22     2  Você interage com todos de forma adequada, ach..."
            ],
            "text/html": [
              "\n",
              "  <div id=\"df-5eb879b8-2d0f-4bcb-9bdb-1ac741e25f7a\">\n",
              "    <div class=\"colab-df-container\">\n",
              "      <div>\n",
              "<style scoped>\n",
              "    .dataframe tbody tr th:only-of-type {\n",
              "        vertical-align: middle;\n",
              "    }\n",
              "\n",
              "    .dataframe tbody tr th {\n",
              "        vertical-align: top;\n",
              "    }\n",
              "\n",
              "    .dataframe thead th {\n",
              "        text-align: right;\n",
              "    }\n",
              "</style>\n",
              "<table border=\"1\" class=\"dataframe\">\n",
              "  <thead>\n",
              "    <tr style=\"text-align: right;\">\n",
              "      <th></th>\n",
              "      <th>Nota</th>\n",
              "      <th>Justificativa</th>\n",
              "    </tr>\n",
              "  </thead>\n",
              "  <tbody>\n",
              "    <tr>\n",
              "      <th>19</th>\n",
              "      <td>2</td>\n",
              "      <td>Sempre disposto a conversar com a equipe, mant...</td>\n",
              "    </tr>\n",
              "    <tr>\n",
              "      <th>22</th>\n",
              "      <td>2</td>\n",
              "      <td>Você interage com todos de forma adequada, ach...</td>\n",
              "    </tr>\n",
              "  </tbody>\n",
              "</table>\n",
              "</div>\n",
              "      <button class=\"colab-df-convert\" onclick=\"convertToInteractive('df-5eb879b8-2d0f-4bcb-9bdb-1ac741e25f7a')\"\n",
              "              title=\"Convert this dataframe to an interactive table.\"\n",
              "              style=\"display:none;\">\n",
              "        \n",
              "  <svg xmlns=\"http://www.w3.org/2000/svg\" height=\"24px\"viewBox=\"0 0 24 24\"\n",
              "       width=\"24px\">\n",
              "    <path d=\"M0 0h24v24H0V0z\" fill=\"none\"/>\n",
              "    <path d=\"M18.56 5.44l.94 2.06.94-2.06 2.06-.94-2.06-.94-.94-2.06-.94 2.06-2.06.94zm-11 1L8.5 8.5l.94-2.06 2.06-.94-2.06-.94L8.5 2.5l-.94 2.06-2.06.94zm10 10l.94 2.06.94-2.06 2.06-.94-2.06-.94-.94-2.06-.94 2.06-2.06.94z\"/><path d=\"M17.41 7.96l-1.37-1.37c-.4-.4-.92-.59-1.43-.59-.52 0-1.04.2-1.43.59L10.3 9.45l-7.72 7.72c-.78.78-.78 2.05 0 2.83L4 21.41c.39.39.9.59 1.41.59.51 0 1.02-.2 1.41-.59l7.78-7.78 2.81-2.81c.8-.78.8-2.07 0-2.86zM5.41 20L4 18.59l7.72-7.72 1.47 1.35L5.41 20z\"/>\n",
              "  </svg>\n",
              "      </button>\n",
              "      \n",
              "  <style>\n",
              "    .colab-df-container {\n",
              "      display:flex;\n",
              "      flex-wrap:wrap;\n",
              "      gap: 12px;\n",
              "    }\n",
              "\n",
              "    .colab-df-convert {\n",
              "      background-color: #E8F0FE;\n",
              "      border: none;\n",
              "      border-radius: 50%;\n",
              "      cursor: pointer;\n",
              "      display: none;\n",
              "      fill: #1967D2;\n",
              "      height: 32px;\n",
              "      padding: 0 0 0 0;\n",
              "      width: 32px;\n",
              "    }\n",
              "\n",
              "    .colab-df-convert:hover {\n",
              "      background-color: #E2EBFA;\n",
              "      box-shadow: 0px 1px 2px rgba(60, 64, 67, 0.3), 0px 1px 3px 1px rgba(60, 64, 67, 0.15);\n",
              "      fill: #174EA6;\n",
              "    }\n",
              "\n",
              "    [theme=dark] .colab-df-convert {\n",
              "      background-color: #3B4455;\n",
              "      fill: #D2E3FC;\n",
              "    }\n",
              "\n",
              "    [theme=dark] .colab-df-convert:hover {\n",
              "      background-color: #434B5C;\n",
              "      box-shadow: 0px 1px 3px 1px rgba(0, 0, 0, 0.15);\n",
              "      filter: drop-shadow(0px 1px 2px rgba(0, 0, 0, 0.3));\n",
              "      fill: #FFFFFF;\n",
              "    }\n",
              "  </style>\n",
              "\n",
              "      <script>\n",
              "        const buttonEl =\n",
              "          document.querySelector('#df-5eb879b8-2d0f-4bcb-9bdb-1ac741e25f7a button.colab-df-convert');\n",
              "        buttonEl.style.display =\n",
              "          google.colab.kernel.accessAllowed ? 'block' : 'none';\n",
              "\n",
              "        async function convertToInteractive(key) {\n",
              "          const element = document.querySelector('#df-5eb879b8-2d0f-4bcb-9bdb-1ac741e25f7a');\n",
              "          const dataTable =\n",
              "            await google.colab.kernel.invokeFunction('convertToInteractive',\n",
              "                                                     [key], {});\n",
              "          if (!dataTable) return;\n",
              "\n",
              "          const docLinkHtml = 'Like what you see? Visit the ' +\n",
              "            '<a target=\"_blank\" href=https://colab.research.google.com/notebooks/data_table.ipynb>data table notebook</a>'\n",
              "            + ' to learn more about interactive tables.';\n",
              "          element.innerHTML = '';\n",
              "          dataTable['output_type'] = 'display_data';\n",
              "          await google.colab.output.renderOutput(dataTable, element);\n",
              "          const docLink = document.createElement('div');\n",
              "          docLink.innerHTML = docLinkHtml;\n",
              "          element.appendChild(docLink);\n",
              "        }\n",
              "      </script>\n",
              "    </div>\n",
              "  </div>\n",
              "  "
            ]
          },
          "metadata": {},
          "execution_count": 71
        }
      ]
    },
    {
      "cell_type": "markdown",
      "source": [
        "## 3.4. Conclusions about interpersonal relationship"
      ],
      "metadata": {
        "id": "w9tIFbpQLsvo"
      }
    },
    {
      "cell_type": "markdown",
      "source": [
        "* 16,67% of people gave me a rating of 2;\n",
        "  * Interpersonal relationship was the subject with the least ratings with a score of 2;\n",
        "* 33,33% of people gave me a rating of 3;\n",
        "  * Same amount of people as Empathy;\n",
        "* 50% of people gave me a rating of 4;"
      ],
      "metadata": {
        "id": "vNVQDZctRXBy"
      }
    },
    {
      "cell_type": "markdown",
      "source": [
        "### **Positive highlights:** \n",
        "\n",
        "Communicates easily with everyone, board, managers, developers, support analysts, etc.\n",
        "\n",
        "He treats everyone with respect, is easy to express himself and deal with the public."
      ],
      "metadata": {
        "id": "OPdsJX-1RW8I"
      }
    },
    {
      "cell_type": "markdown",
      "source": [
        "### **Negative points (to be improved):**\n",
        "\n",
        "It could be more present in the relationship with the whole team, be closer."
      ],
      "metadata": {
        "id": "q-dq4ECVRWwL"
      }
    },
    {
      "cell_type": "markdown",
      "source": [
        "### **My considerations:**\n",
        "\n",
        "This is really a point where I can improve and allow myself to be a little closer to people, especially being in Brazil, where people like this closeness."
      ],
      "metadata": {
        "id": "Lrh0_s3hU2Rs"
      }
    },
    {
      "cell_type": "markdown",
      "source": [
        "# 4. Active listening analysis"
      ],
      "metadata": {
        "id": "ZBGIvmWrL7AY"
      }
    },
    {
      "cell_type": "code",
      "source": [
        "# Selects all records where subject equals 'Escuta_Ativa' and stores it in the AL variable\n",
        "active_listening = dataset.Assunto == 'Escuta_Ativa'"
      ],
      "metadata": {
        "id": "Q_p4jSHWMA7G"
      },
      "execution_count": null,
      "outputs": []
    },
    {
      "cell_type": "code",
      "source": [
        "dataset[active_listening]"
      ],
      "metadata": {
        "colab": {
          "base_uri": "https://localhost:8080/",
          "height": 426
        },
        "id": "YN8sCzHyRfO1",
        "outputId": "b9596992-2453-4b36-9090-0dce3c7f04ab"
      },
      "execution_count": null,
      "outputs": [
        {
          "output_type": "execute_result",
          "data": {
            "text/plain": [
              "        Nome       Assunto  Nota                                      Justificativa\n",
              "2    Leticia  Escuta_Ativa     2  Eu já falei algumas vezes sobre isso, não é se...\n",
              "5     Michel  Escuta_Ativa     4  Boa capacidade de escuta ativa, resultante da ...\n",
              "8    Rodrigo  Escuta_Ativa     3  No geral você tem uma boa capacidade de ouvir ...\n",
              "11    Victor  Escuta_Ativa     4  Como dito anteriormente, desde o início esteve...\n",
              "14  Fabricio  Escuta_Ativa     4  Acho isso uma qualidade sua muito boa, todas a...\n",
              "17   Patrick  Escuta_Ativa     2                           Favor melhorar obrigado!\n",
              "20    Fagner  Escuta_Ativa     4  Sempre escuta e considera viável opiniões de t...\n",
              "23     Livio  Escuta_Ativa     2  Na escuta ativa, realmente, tentar praticar a ...\n",
              "26      João  Escuta_Ativa     4  A escuta ativa , está intrinsecamente ligada a...\n",
              "29    Eliana  Escuta_Ativa     4        Tem facilidade em ouvir e aceitar mudanças.\n",
              "32     Thais  Escuta_Ativa     4  Com RH, sempre foi muito prestativo a ouvir e ...\n",
              "35   Thalita  Escuta_Ativa     4  Consegue abranger diversos pontos de vista e, ..."
            ],
            "text/html": [
              "\n",
              "  <div id=\"df-a81c0414-fdca-4929-a04d-dfaec5fe5045\">\n",
              "    <div class=\"colab-df-container\">\n",
              "      <div>\n",
              "<style scoped>\n",
              "    .dataframe tbody tr th:only-of-type {\n",
              "        vertical-align: middle;\n",
              "    }\n",
              "\n",
              "    .dataframe tbody tr th {\n",
              "        vertical-align: top;\n",
              "    }\n",
              "\n",
              "    .dataframe thead th {\n",
              "        text-align: right;\n",
              "    }\n",
              "</style>\n",
              "<table border=\"1\" class=\"dataframe\">\n",
              "  <thead>\n",
              "    <tr style=\"text-align: right;\">\n",
              "      <th></th>\n",
              "      <th>Nome</th>\n",
              "      <th>Assunto</th>\n",
              "      <th>Nota</th>\n",
              "      <th>Justificativa</th>\n",
              "    </tr>\n",
              "  </thead>\n",
              "  <tbody>\n",
              "    <tr>\n",
              "      <th>2</th>\n",
              "      <td>Leticia</td>\n",
              "      <td>Escuta_Ativa</td>\n",
              "      <td>2</td>\n",
              "      <td>Eu já falei algumas vezes sobre isso, não é se...</td>\n",
              "    </tr>\n",
              "    <tr>\n",
              "      <th>5</th>\n",
              "      <td>Michel</td>\n",
              "      <td>Escuta_Ativa</td>\n",
              "      <td>4</td>\n",
              "      <td>Boa capacidade de escuta ativa, resultante da ...</td>\n",
              "    </tr>\n",
              "    <tr>\n",
              "      <th>8</th>\n",
              "      <td>Rodrigo</td>\n",
              "      <td>Escuta_Ativa</td>\n",
              "      <td>3</td>\n",
              "      <td>No geral você tem uma boa capacidade de ouvir ...</td>\n",
              "    </tr>\n",
              "    <tr>\n",
              "      <th>11</th>\n",
              "      <td>Victor</td>\n",
              "      <td>Escuta_Ativa</td>\n",
              "      <td>4</td>\n",
              "      <td>Como dito anteriormente, desde o início esteve...</td>\n",
              "    </tr>\n",
              "    <tr>\n",
              "      <th>14</th>\n",
              "      <td>Fabricio</td>\n",
              "      <td>Escuta_Ativa</td>\n",
              "      <td>4</td>\n",
              "      <td>Acho isso uma qualidade sua muito boa, todas a...</td>\n",
              "    </tr>\n",
              "    <tr>\n",
              "      <th>17</th>\n",
              "      <td>Patrick</td>\n",
              "      <td>Escuta_Ativa</td>\n",
              "      <td>2</td>\n",
              "      <td>Favor melhorar obrigado!</td>\n",
              "    </tr>\n",
              "    <tr>\n",
              "      <th>20</th>\n",
              "      <td>Fagner</td>\n",
              "      <td>Escuta_Ativa</td>\n",
              "      <td>4</td>\n",
              "      <td>Sempre escuta e considera viável opiniões de t...</td>\n",
              "    </tr>\n",
              "    <tr>\n",
              "      <th>23</th>\n",
              "      <td>Livio</td>\n",
              "      <td>Escuta_Ativa</td>\n",
              "      <td>2</td>\n",
              "      <td>Na escuta ativa, realmente, tentar praticar a ...</td>\n",
              "    </tr>\n",
              "    <tr>\n",
              "      <th>26</th>\n",
              "      <td>João</td>\n",
              "      <td>Escuta_Ativa</td>\n",
              "      <td>4</td>\n",
              "      <td>A escuta ativa , está intrinsecamente ligada a...</td>\n",
              "    </tr>\n",
              "    <tr>\n",
              "      <th>29</th>\n",
              "      <td>Eliana</td>\n",
              "      <td>Escuta_Ativa</td>\n",
              "      <td>4</td>\n",
              "      <td>Tem facilidade em ouvir e aceitar mudanças.</td>\n",
              "    </tr>\n",
              "    <tr>\n",
              "      <th>32</th>\n",
              "      <td>Thais</td>\n",
              "      <td>Escuta_Ativa</td>\n",
              "      <td>4</td>\n",
              "      <td>Com RH, sempre foi muito prestativo a ouvir e ...</td>\n",
              "    </tr>\n",
              "    <tr>\n",
              "      <th>35</th>\n",
              "      <td>Thalita</td>\n",
              "      <td>Escuta_Ativa</td>\n",
              "      <td>4</td>\n",
              "      <td>Consegue abranger diversos pontos de vista e, ...</td>\n",
              "    </tr>\n",
              "  </tbody>\n",
              "</table>\n",
              "</div>\n",
              "      <button class=\"colab-df-convert\" onclick=\"convertToInteractive('df-a81c0414-fdca-4929-a04d-dfaec5fe5045')\"\n",
              "              title=\"Convert this dataframe to an interactive table.\"\n",
              "              style=\"display:none;\">\n",
              "        \n",
              "  <svg xmlns=\"http://www.w3.org/2000/svg\" height=\"24px\"viewBox=\"0 0 24 24\"\n",
              "       width=\"24px\">\n",
              "    <path d=\"M0 0h24v24H0V0z\" fill=\"none\"/>\n",
              "    <path d=\"M18.56 5.44l.94 2.06.94-2.06 2.06-.94-2.06-.94-.94-2.06-.94 2.06-2.06.94zm-11 1L8.5 8.5l.94-2.06 2.06-.94-2.06-.94L8.5 2.5l-.94 2.06-2.06.94zm10 10l.94 2.06.94-2.06 2.06-.94-2.06-.94-.94-2.06-.94 2.06-2.06.94z\"/><path d=\"M17.41 7.96l-1.37-1.37c-.4-.4-.92-.59-1.43-.59-.52 0-1.04.2-1.43.59L10.3 9.45l-7.72 7.72c-.78.78-.78 2.05 0 2.83L4 21.41c.39.39.9.59 1.41.59.51 0 1.02-.2 1.41-.59l7.78-7.78 2.81-2.81c.8-.78.8-2.07 0-2.86zM5.41 20L4 18.59l7.72-7.72 1.47 1.35L5.41 20z\"/>\n",
              "  </svg>\n",
              "      </button>\n",
              "      \n",
              "  <style>\n",
              "    .colab-df-container {\n",
              "      display:flex;\n",
              "      flex-wrap:wrap;\n",
              "      gap: 12px;\n",
              "    }\n",
              "\n",
              "    .colab-df-convert {\n",
              "      background-color: #E8F0FE;\n",
              "      border: none;\n",
              "      border-radius: 50%;\n",
              "      cursor: pointer;\n",
              "      display: none;\n",
              "      fill: #1967D2;\n",
              "      height: 32px;\n",
              "      padding: 0 0 0 0;\n",
              "      width: 32px;\n",
              "    }\n",
              "\n",
              "    .colab-df-convert:hover {\n",
              "      background-color: #E2EBFA;\n",
              "      box-shadow: 0px 1px 2px rgba(60, 64, 67, 0.3), 0px 1px 3px 1px rgba(60, 64, 67, 0.15);\n",
              "      fill: #174EA6;\n",
              "    }\n",
              "\n",
              "    [theme=dark] .colab-df-convert {\n",
              "      background-color: #3B4455;\n",
              "      fill: #D2E3FC;\n",
              "    }\n",
              "\n",
              "    [theme=dark] .colab-df-convert:hover {\n",
              "      background-color: #434B5C;\n",
              "      box-shadow: 0px 1px 3px 1px rgba(0, 0, 0, 0.15);\n",
              "      filter: drop-shadow(0px 1px 2px rgba(0, 0, 0, 0.3));\n",
              "      fill: #FFFFFF;\n",
              "    }\n",
              "  </style>\n",
              "\n",
              "      <script>\n",
              "        const buttonEl =\n",
              "          document.querySelector('#df-a81c0414-fdca-4929-a04d-dfaec5fe5045 button.colab-df-convert');\n",
              "        buttonEl.style.display =\n",
              "          google.colab.kernel.accessAllowed ? 'block' : 'none';\n",
              "\n",
              "        async function convertToInteractive(key) {\n",
              "          const element = document.querySelector('#df-a81c0414-fdca-4929-a04d-dfaec5fe5045');\n",
              "          const dataTable =\n",
              "            await google.colab.kernel.invokeFunction('convertToInteractive',\n",
              "                                                     [key], {});\n",
              "          if (!dataTable) return;\n",
              "\n",
              "          const docLinkHtml = 'Like what you see? Visit the ' +\n",
              "            '<a target=\"_blank\" href=https://colab.research.google.com/notebooks/data_table.ipynb>data table notebook</a>'\n",
              "            + ' to learn more about interactive tables.';\n",
              "          element.innerHTML = '';\n",
              "          dataTable['output_type'] = 'display_data';\n",
              "          await google.colab.output.renderOutput(dataTable, element);\n",
              "          const docLink = document.createElement('div');\n",
              "          docLink.innerHTML = docLinkHtml;\n",
              "          element.appendChild(docLink);\n",
              "        }\n",
              "      </script>\n",
              "    </div>\n",
              "  </div>\n",
              "  "
            ]
          },
          "metadata": {},
          "execution_count": 73
        }
      ]
    },
    {
      "cell_type": "markdown",
      "source": [
        "**Graph with active listening assesments**"
      ],
      "metadata": {
        "id": "2BW2sFdpSWlm"
      }
    },
    {
      "cell_type": "code",
      "source": [
        "# Creates a list with only the AL notes\n",
        "al_notes = list()\n",
        "for index, row in dataset[active_listening].iterrows():\n",
        " al_notes.append(dataset.loc[index, 'Nota'])"
      ],
      "metadata": {
        "id": "O3q2WV52STNm"
      },
      "execution_count": null,
      "outputs": []
    },
    {
      "cell_type": "code",
      "source": [
        "al_notes"
      ],
      "metadata": {
        "colab": {
          "base_uri": "https://localhost:8080/"
        },
        "id": "PAzAk-QAS4Y4",
        "outputId": "de950e35-58f1-495a-e507-11d515ed3249"
      },
      "execution_count": null,
      "outputs": [
        {
          "output_type": "execute_result",
          "data": {
            "text/plain": [
              "[2, 4, 3, 4, 4, 2, 4, 2, 4, 4, 4, 4]"
            ]
          },
          "metadata": {},
          "execution_count": 75
        }
      ]
    },
    {
      "cell_type": "code",
      "source": [
        "x = list(range(1, len(al_notes)+1))\n",
        "y = al_notes\n",
        "plt.plot(x, y, marker='o')\n",
        "plt.title('Active Listening Assesments')\n",
        "plt.xlabel('Notes')\n",
        "plt.ylabel('Indice')\n",
        "plt.show()"
      ],
      "metadata": {
        "colab": {
          "base_uri": "https://localhost:8080/",
          "height": 295
        },
        "id": "-0Y8hEAoTAal",
        "outputId": "fc41507c-a769-4be3-f78e-ce0f20bcbe49"
      },
      "execution_count": null,
      "outputs": [
        {
          "output_type": "display_data",
          "data": {
            "text/plain": [
              "<Figure size 432x288 with 1 Axes>"
            ],
            "image/png": "[encoded data removed]"
          },
          "metadata": {
            "needs_background": "light"
          }
        }
      ]
    },
    {
      "cell_type": "markdown",
      "source": [
        "## 4.1. Active listening average"
      ],
      "metadata": {
        "id": "mm6--GNgSD5o"
      }
    },
    {
      "cell_type": "code",
      "source": [
        "# Calculating the IR average\n",
        "al_total = 0\n",
        "al_average = 0\n",
        "for index, row in dataset[active_listening].iterrows():\n",
        "  al_total += dataset.loc[index, 'Nota']\n",
        "\n",
        "al_average = al_total / len(dataset[active_listening])"
      ],
      "metadata": {
        "id": "70eUsH_RRjUk"
      },
      "execution_count": null,
      "outputs": []
    },
    {
      "cell_type": "code",
      "source": [
        "print('The active listening average is: ', al_average)"
      ],
      "metadata": {
        "colab": {
          "base_uri": "https://localhost:8080/"
        },
        "id": "0zZYyMNYSSo4",
        "outputId": "071b1402-494b-45f7-89ef-aad50e0c6747"
      },
      "execution_count": null,
      "outputs": [
        {
          "output_type": "stream",
          "name": "stdout",
          "text": [
            "The active listening average is:  3.4166666666666665\n"
          ]
        }
      ]
    },
    {
      "cell_type": "markdown",
      "source": [
        "## 4.2. Active listening mode"
      ],
      "metadata": {
        "id": "qxpLLQDeThDJ"
      }
    },
    {
      "cell_type": "code",
      "source": [
        "# Find the mode of active listening\n",
        "al_mode = statistics.mode(al_notes)"
      ],
      "metadata": {
        "id": "AQ-KDWixTMBq"
      },
      "execution_count": null,
      "outputs": []
    },
    {
      "cell_type": "code",
      "source": [
        "print('The active listening mode is: ', al_mode)"
      ],
      "metadata": {
        "colab": {
          "base_uri": "https://localhost:8080/"
        },
        "id": "NrWs26MvrYba",
        "outputId": "13f73801-6c85-4ec2-a4d1-992a65dff4aa"
      },
      "execution_count": null,
      "outputs": [
        {
          "output_type": "stream",
          "name": "stdout",
          "text": [
            "The active listening mode is:  4\n"
          ]
        }
      ]
    },
    {
      "cell_type": "markdown",
      "source": [
        "## 4.3. Lowest active listening ratings"
      ],
      "metadata": {
        "id": "DKMgJ15yTiU-"
      }
    },
    {
      "cell_type": "code",
      "source": [
        "# Find the lowest active listening ratings\n",
        "al_min = min(al_notes)\n",
        "al_min"
      ],
      "metadata": {
        "id": "6Wu3Qa_ZTlXI",
        "colab": {
          "base_uri": "https://localhost:8080/"
        },
        "outputId": "541cd46e-e600-42e4-a735-31cd8aa0bd57"
      },
      "execution_count": null,
      "outputs": [
        {
          "output_type": "execute_result",
          "data": {
            "text/plain": [
              "2"
            ]
          },
          "metadata": {},
          "execution_count": 81
        }
      ]
    },
    {
      "cell_type": "code",
      "source": [
        "# Create a dataset only active listening == 2\n",
        "dt_al_min = dataset[(dataset.Assunto == 'Escuta_Ativa') & (dataset.Nota == 2)]"
      ],
      "metadata": {
        "id": "U_TfQ8VLrrkz"
      },
      "execution_count": null,
      "outputs": []
    },
    {
      "cell_type": "code",
      "source": [
        "# Displays the justification where the evaluation was equal to 2\n",
        "dt_al_min.loc[:, ['Nota', 'Justificativa']]"
      ],
      "metadata": {
        "colab": {
          "base_uri": "https://localhost:8080/"
        },
        "id": "CkjvP9w9rrXU",
        "outputId": "af24f32d-2b6b-4838-c7c1-2dd9aba7c1c4"
      },
      "execution_count": null,
      "outputs": [
        {
          "output_type": "execute_result",
          "data": {
            "text/plain": [
              "    Nota                                      Justificativa\n",
              "2      2  Eu já falei algumas vezes sobre isso, não é se...\n",
              "17     2                           Favor melhorar obrigado!\n",
              "23     2  Na escuta ativa, realmente, tentar praticar a ..."
            ],
            "text/html": [
              "\n",
              "  <div id=\"df-7e94cf34-2d4c-49ae-a796-82be901b7b29\">\n",
              "    <div class=\"colab-df-container\">\n",
              "      <div>\n",
              "<style scoped>\n",
              "    .dataframe tbody tr th:only-of-type {\n",
              "        vertical-align: middle;\n",
              "    }\n",
              "\n",
              "    .dataframe tbody tr th {\n",
              "        vertical-align: top;\n",
              "    }\n",
              "\n",
              "    .dataframe thead th {\n",
              "        text-align: right;\n",
              "    }\n",
              "</style>\n",
              "<table border=\"1\" class=\"dataframe\">\n",
              "  <thead>\n",
              "    <tr style=\"text-align: right;\">\n",
              "      <th></th>\n",
              "      <th>Nota</th>\n",
              "      <th>Justificativa</th>\n",
              "    </tr>\n",
              "  </thead>\n",
              "  <tbody>\n",
              "    <tr>\n",
              "      <th>2</th>\n",
              "      <td>2</td>\n",
              "      <td>Eu já falei algumas vezes sobre isso, não é se...</td>\n",
              "    </tr>\n",
              "    <tr>\n",
              "      <th>17</th>\n",
              "      <td>2</td>\n",
              "      <td>Favor melhorar obrigado!</td>\n",
              "    </tr>\n",
              "    <tr>\n",
              "      <th>23</th>\n",
              "      <td>2</td>\n",
              "      <td>Na escuta ativa, realmente, tentar praticar a ...</td>\n",
              "    </tr>\n",
              "  </tbody>\n",
              "</table>\n",
              "</div>\n",
              "      <button class=\"colab-df-convert\" onclick=\"convertToInteractive('df-7e94cf34-2d4c-49ae-a796-82be901b7b29')\"\n",
              "              title=\"Convert this dataframe to an interactive table.\"\n",
              "              style=\"display:none;\">\n",
              "        \n",
              "  <svg xmlns=\"http://www.w3.org/2000/svg\" height=\"24px\"viewBox=\"0 0 24 24\"\n",
              "       width=\"24px\">\n",
              "    <path d=\"M0 0h24v24H0V0z\" fill=\"none\"/>\n",
              "    <path d=\"M18.56 5.44l.94 2.06.94-2.06 2.06-.94-2.06-.94-.94-2.06-.94 2.06-2.06.94zm-11 1L8.5 8.5l.94-2.06 2.06-.94-2.06-.94L8.5 2.5l-.94 2.06-2.06.94zm10 10l.94 2.06.94-2.06 2.06-.94-2.06-.94-.94-2.06-.94 2.06-2.06.94z\"/><path d=\"M17.41 7.96l-1.37-1.37c-.4-.4-.92-.59-1.43-.59-.52 0-1.04.2-1.43.59L10.3 9.45l-7.72 7.72c-.78.78-.78 2.05 0 2.83L4 21.41c.39.39.9.59 1.41.59.51 0 1.02-.2 1.41-.59l7.78-7.78 2.81-2.81c.8-.78.8-2.07 0-2.86zM5.41 20L4 18.59l7.72-7.72 1.47 1.35L5.41 20z\"/>\n",
              "  </svg>\n",
              "      </button>\n",
              "      \n",
              "  <style>\n",
              "    .colab-df-container {\n",
              "      display:flex;\n",
              "      flex-wrap:wrap;\n",
              "      gap: 12px;\n",
              "    }\n",
              "\n",
              "    .colab-df-convert {\n",
              "      background-color: #E8F0FE;\n",
              "      border: none;\n",
              "      border-radius: 50%;\n",
              "      cursor: pointer;\n",
              "      display: none;\n",
              "      fill: #1967D2;\n",
              "      height: 32px;\n",
              "      padding: 0 0 0 0;\n",
              "      width: 32px;\n",
              "    }\n",
              "\n",
              "    .colab-df-convert:hover {\n",
              "      background-color: #E2EBFA;\n",
              "      box-shadow: 0px 1px 2px rgba(60, 64, 67, 0.3), 0px 1px 3px 1px rgba(60, 64, 67, 0.15);\n",
              "      fill: #174EA6;\n",
              "    }\n",
              "\n",
              "    [theme=dark] .colab-df-convert {\n",
              "      background-color: #3B4455;\n",
              "      fill: #D2E3FC;\n",
              "    }\n",
              "\n",
              "    [theme=dark] .colab-df-convert:hover {\n",
              "      background-color: #434B5C;\n",
              "      box-shadow: 0px 1px 3px 1px rgba(0, 0, 0, 0.15);\n",
              "      filter: drop-shadow(0px 1px 2px rgba(0, 0, 0, 0.3));\n",
              "      fill: #FFFFFF;\n",
              "    }\n",
              "  </style>\n",
              "\n",
              "      <script>\n",
              "        const buttonEl =\n",
              "          document.querySelector('#df-7e94cf34-2d4c-49ae-a796-82be901b7b29 button.colab-df-convert');\n",
              "        buttonEl.style.display =\n",
              "          google.colab.kernel.accessAllowed ? 'block' : 'none';\n",
              "\n",
              "        async function convertToInteractive(key) {\n",
              "          const element = document.querySelector('#df-7e94cf34-2d4c-49ae-a796-82be901b7b29');\n",
              "          const dataTable =\n",
              "            await google.colab.kernel.invokeFunction('convertToInteractive',\n",
              "                                                     [key], {});\n",
              "          if (!dataTable) return;\n",
              "\n",
              "          const docLinkHtml = 'Like what you see? Visit the ' +\n",
              "            '<a target=\"_blank\" href=https://colab.research.google.com/notebooks/data_table.ipynb>data table notebook</a>'\n",
              "            + ' to learn more about interactive tables.';\n",
              "          element.innerHTML = '';\n",
              "          dataTable['output_type'] = 'display_data';\n",
              "          await google.colab.output.renderOutput(dataTable, element);\n",
              "          const docLink = document.createElement('div');\n",
              "          docLink.innerHTML = docLinkHtml;\n",
              "          element.appendChild(docLink);\n",
              "        }\n",
              "      </script>\n",
              "    </div>\n",
              "  </div>\n",
              "  "
            ]
          },
          "metadata": {},
          "execution_count": 83
        }
      ]
    },
    {
      "cell_type": "markdown",
      "source": [
        "## 4.4. Conclusions about active listening"
      ],
      "metadata": {
        "id": "0BadvWjnTmMk"
      }
    },
    {
      "cell_type": "markdown",
      "source": [
        "* 25% of people gave me a rating of 2;\n",
        "  * The same percentual that Empathy;\n",
        "* 8,33% of people gave me a rating of 3;\n",
        "  * Only one person got me a note 3;\n",
        "* 66,67% of people gave me a rating of 4;\n",
        "  * **This is the most percentual of all the subjects;**\n",
        "  * Active listening was the subject with the more ratings with a score of 4;"
      ],
      "metadata": {
        "id": "3ULGi_FxssRH"
      }
    },
    {
      "cell_type": "markdown",
      "source": [
        "### **Positive highlights:** \n",
        "\n",
        "He listens carefully to everyone and does not interrupt them during speech, but if necessary, he knows when to impose himself.\n",
        "\n",
        "Consider everyone's opinion for decision making."
      ],
      "metadata": {
        "id": "pIfXrvjossNL"
      }
    },
    {
      "cell_type": "markdown",
      "source": [
        "### **Negative points (to be improved):**\n",
        "\n",
        "Be careful when you already have an opinion and insist on it, even if others say otherwise.\n",
        "\n",
        "Giving more space for others to speak, sometimes speaks more than others."
      ],
      "metadata": {
        "id": "ack1K_t3ssI_"
      }
    },
    {
      "cell_type": "markdown",
      "source": [
        "### **My considerations:**\n",
        "\n",
        "In my opinion, this is perhaps the issue that I am \"better\" and \"worse\" at the same time.\n",
        "\n",
        "In general I consider myself a good listener, however, I am very stubborn and it is difficult to change my mind.\n",
        "\n",
        "However, I sometimes feel that people confuse listening with agreeing. I can hear and understand your opinion, but continue to disagree."
      ],
      "metadata": {
        "id": "jvSTFEpHsr04"
      }
    }
  ]
}